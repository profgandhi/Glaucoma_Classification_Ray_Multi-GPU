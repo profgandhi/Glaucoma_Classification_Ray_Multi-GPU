{
 "cells": [
  {
   "cell_type": "code",
   "execution_count": 7,
   "id": "01c97b77",
   "metadata": {},
   "outputs": [],
   "source": [
    "import numpy as np\n",
    "import pandas as pd\n",
    "import torch\n",
    "import torch.nn as nn\n",
    "import torch.optim as optim\n",
    "from linformer import Linformer\n",
    "from PIL import Image\n",
    "from torch.optim.lr_scheduler import StepLR\n",
    "from tqdm.notebook import tqdm\n",
    "from vit_pytorch.efficient import ViT\n",
    "from sklearn.metrics import roc_curve, roc_auc_score\n",
    "from sklearn.metrics import confusion_matrix"
   ]
  },
  {
   "cell_type": "code",
   "execution_count": 13,
   "id": "6a31a636",
   "metadata": {},
   "outputs": [],
   "source": [
    "class Identity(nn.Module):\n",
    "    def __init__(self):\n",
    "        super(Identity, self).__init__()\n",
    "        \n",
    "    def forward(self, x):\n",
    "        return x"
   ]
  },
  {
   "cell_type": "code",
   "execution_count": 21,
   "id": "63474a48",
   "metadata": {},
   "outputs": [],
   "source": [
    "class VIT_Custom(nn.Module):\n",
    "    def __init__(self):\n",
    "        super(VIT_Custom, self).__init__()\n",
    "        efficient_transformer = Linformer(dim=128, seq_len=197, depth=4, heads=8, k=64)\n",
    "        self.VIT = ViT(dim=128, image_size=224, patch_size=16, num_classes=2, transformer=efficient_transformer, channels=3)\n",
    "        self.VIT.mlp_head = Identity()\n",
    "        self.my_new_layers = nn.Sequential(nn.Linear(138, 32),\n",
    "                                           nn.ReLU(),\n",
    "                                           nn.Linear(32,2),\n",
    "                                           nn.Sigmoid())\n",
    "    \n",
    "    def forward(self, x, features):\n",
    "        x = self.VIT(x)\n",
    "        torch.cat((x,features),axis=1)\n",
    "        x = self.my_new_layers(x)\n",
    "        return "
   ]
  },
  {
   "cell_type": "code",
   "execution_count": 23,
   "id": "c42bf9d6",
   "metadata": {},
   "outputs": [
    {
     "ename": "NameError",
     "evalue": "name 'VGG16_finetune' is not defined",
     "output_type": "error",
     "traceback": [
      "\u001b[0;31m---------------------------------------------------------------------------\u001b[0m",
      "\u001b[0;31mNameError\u001b[0m                                 Traceback (most recent call last)",
      "Input \u001b[0;32mIn [23]\u001b[0m, in \u001b[0;36m<module>\u001b[0;34m\u001b[0m\n\u001b[0;32m----> 1\u001b[0m \u001b[43mVIT_Custom\u001b[49m\u001b[43m(\u001b[49m\u001b[43m)\u001b[49m(X,z)\n",
      "Input \u001b[0;32mIn [21]\u001b[0m, in \u001b[0;36mVIT_Custom.__init__\u001b[0;34m(self)\u001b[0m\n\u001b[1;32m      2\u001b[0m \u001b[38;5;28;01mdef\u001b[39;00m \u001b[38;5;21m__init__\u001b[39m(\u001b[38;5;28mself\u001b[39m):\n\u001b[0;32m----> 3\u001b[0m     \u001b[38;5;28msuper\u001b[39m(\u001b[43mVGG16_finetune\u001b[49m, \u001b[38;5;28mself\u001b[39m)\u001b[38;5;241m.\u001b[39m\u001b[38;5;21m__init__\u001b[39m()\n\u001b[1;32m      4\u001b[0m     efficient_transformer \u001b[38;5;241m=\u001b[39m Linformer(dim\u001b[38;5;241m=\u001b[39m\u001b[38;5;241m128\u001b[39m, seq_len\u001b[38;5;241m=\u001b[39m\u001b[38;5;241m197\u001b[39m, depth\u001b[38;5;241m=\u001b[39m\u001b[38;5;241m4\u001b[39m, heads\u001b[38;5;241m=\u001b[39m\u001b[38;5;241m8\u001b[39m, k\u001b[38;5;241m=\u001b[39m\u001b[38;5;241m64\u001b[39m)\n\u001b[1;32m      5\u001b[0m     \u001b[38;5;28mself\u001b[39m\u001b[38;5;241m.\u001b[39mVIT \u001b[38;5;241m=\u001b[39m ViT(dim\u001b[38;5;241m=\u001b[39m\u001b[38;5;241m128\u001b[39m, image_size\u001b[38;5;241m=\u001b[39m\u001b[38;5;241m224\u001b[39m, patch_size\u001b[38;5;241m=\u001b[39m\u001b[38;5;241m16\u001b[39m, num_classes\u001b[38;5;241m=\u001b[39m\u001b[38;5;241m2\u001b[39m, transformer\u001b[38;5;241m=\u001b[39mefficient_transformer, channels\u001b[38;5;241m=\u001b[39m\u001b[38;5;241m3\u001b[39m)\n",
      "\u001b[0;31mNameError\u001b[0m: name 'VGG16_finetune' is not defined"
     ]
    }
   ],
   "source": [
    "VIT_Custom()(X,z)"
   ]
  },
  {
   "cell_type": "code",
   "execution_count": 9,
   "id": "85a9aaa5",
   "metadata": {},
   "outputs": [],
   "source": [
    "efficient_transformer = Linformer(dim=128, seq_len=197, depth=4, heads=8, k=64)\n",
    "VIT = ViT(dim=128, image_size=224, patch_size=16, num_classes=2, transformer=efficient_transformer, channels=3)"
   ]
  },
  {
   "cell_type": "code",
   "execution_count": 10,
   "id": "42878843",
   "metadata": {},
   "outputs": [],
   "source": [
    "from steps.dataset_loaders import get_dataloaders\n",
    "train_dataloader, test_dataloader = get_dataloaders(batch_size=16)"
   ]
  },
  {
   "cell_type": "code",
   "execution_count": 11,
   "id": "a9a40478",
   "metadata": {},
   "outputs": [],
   "source": [
    "X, y, z = next(iter(train_dataloader))"
   ]
  },
  {
   "cell_type": "code",
   "execution_count": 20,
   "id": "282bcb84",
   "metadata": {},
   "outputs": [
    {
     "data": {
      "text/plain": [
       "torch.Size([16, 138])"
      ]
     },
     "execution_count": 20,
     "metadata": {},
     "output_type": "execute_result"
    }
   ],
   "source": [
    "torch.cat((VIT(X),z),axis=1).shape"
   ]
  },
  {
   "cell_type": "code",
   "execution_count": 15,
   "id": "b9913c7d",
   "metadata": {},
   "outputs": [],
   "source": [
    "VIT.mlp_head = Identity()"
   ]
  },
  {
   "cell_type": "code",
   "execution_count": 16,
   "id": "1af52b11",
   "metadata": {},
   "outputs": [
    {
     "data": {
      "text/plain": [
       "torch.Size([16, 128])"
      ]
     },
     "execution_count": 16,
     "metadata": {},
     "output_type": "execute_result"
    }
   ],
   "source": [
    "VIT(X).shape"
   ]
  },
  {
   "cell_type": "code",
   "execution_count": 126,
   "id": "3e790a1e",
   "metadata": {},
   "outputs": [],
   "source": [
    "df = pd.read_csv(\"/workspace/shrey/Glucoma_Major/JustRAIGS_Train_labels.csv\",sep=';')\n",
    "df['Final Label'] = df['Final Label'].apply(lambda x: 0 if x == \"NRG\" else 1)\n",
    "df.fillna(-1,inplace=True)"
   ]
  },
  {
   "cell_type": "code",
   "execution_count": 132,
   "id": "16e806a9",
   "metadata": {},
   "outputs": [
    {
     "data": {
      "text/plain": [
       "array([-1., -1.,  0., -1., -1.,  0., -1.,  0.,  0., 29.])"
      ]
     },
     "execution_count": 132,
     "metadata": {},
     "output_type": "execute_result"
    }
   ],
   "source": [
    "df.loc[1,['G3 ANRI','G3 RNFLDI','G2 ANRI','G3 ANRS','G3 DH', 'G2 ANRS', 'G3 LD', 'G1 ANRI','G1 ANRS','Age']].values.astype(float)\n"
   ]
  },
  {
   "cell_type": "code",
   "execution_count": 133,
   "id": "195b7cbe",
   "metadata": {},
   "outputs": [
    {
     "data": {
      "text/plain": [
       "tensor([-1., -1.,  0., -1., -1.,  0., -1.,  0.,  0., 29.], dtype=torch.float64)"
      ]
     },
     "execution_count": 133,
     "metadata": {},
     "output_type": "execute_result"
    }
   ],
   "source": [
    "torch.tensor(df.loc[1,['G3 ANRI','G3 RNFLDI','G2 ANRI','G3 ANRS','G3 DH', 'G2 ANRS', 'G3 LD', 'G1 ANRI','G1 ANRS','Age']].values.astype(float))"
   ]
  },
  {
   "cell_type": "code",
   "execution_count": 50,
   "id": "d3337eac",
   "metadata": {},
   "outputs": [
    {
     "data": {
      "text/plain": [
       "(6380, 37)"
      ]
     },
     "execution_count": 50,
     "metadata": {},
     "output_type": "execute_result"
    }
   ],
   "source": [
    "df.dropna().shape"
   ]
  },
  {
   "cell_type": "code",
   "execution_count": 61,
   "id": "c954a072",
   "metadata": {},
   "outputs": [
    {
     "data": {
      "text/plain": [
       "Index(['Eye ID', 'Final Label', 'Fellow Eye ID', 'Age', 'Label G1', 'Label G2',\n",
       "       'Label G3', 'G1 ANRS', 'G1 ANRI', 'G1 RNFLDS', 'G1 RNFLDI', 'G1 BCLVS',\n",
       "       'G1 BCLVI', 'G1 NVT', 'G1 DH', 'G1 LD', 'G1 LC', 'G2 ANRS', 'G2 ANRI',\n",
       "       'G2 RNFLDS', 'G2 RNFLDI', 'G2 BCLVS', 'G2 BCLVI', 'G2 NVT', 'G2 DH',\n",
       "       'G2 LD', 'G2 LC', 'G3 ANRS', 'G3 ANRI', 'G3 RNFLDS', 'G3 RNFLDI',\n",
       "       'G3 BCLVS', 'G3 BCLVI', 'G3 NVT', 'G3 DH', 'G3 LD', 'G3 LC'],\n",
       "      dtype='object')"
      ]
     },
     "execution_count": 61,
     "metadata": {},
     "output_type": "execute_result"
    }
   ],
   "source": [
    "df.columns"
   ]
  },
  {
   "cell_type": "code",
   "execution_count": null,
   "id": "2496037f",
   "metadata": {},
   "outputs": [],
   "source": [
    "# Feature Selection using catboost"
   ]
  },
  {
   "cell_type": "code",
   "execution_count": 65,
   "id": "4cd30dd4",
   "metadata": {},
   "outputs": [
    {
     "data": {
      "text/plain": [
       "0    98153\n",
       "1     3270\n",
       "Name: Final Label, dtype: int64"
      ]
     },
     "execution_count": 65,
     "metadata": {},
     "output_type": "execute_result"
    }
   ],
   "source": [
    "df['Final Label'].value_counts()"
   ]
  },
  {
   "cell_type": "code",
   "execution_count": 84,
   "id": "71df653f",
   "metadata": {},
   "outputs": [
    {
     "data": {
      "text/plain": [
       "0.9677587923843705"
      ]
     },
     "execution_count": 84,
     "metadata": {},
     "output_type": "execute_result"
    }
   ],
   "source": [
    "98153/df['Final Label'].shape[0]"
   ]
  },
  {
   "cell_type": "code",
   "execution_count": 70,
   "id": "57bc74e6",
   "metadata": {},
   "outputs": [
    {
     "name": "stdout",
     "output_type": "stream",
     "text": [
      "<class 'pandas.core.frame.DataFrame'>\n",
      "RangeIndex: 101423 entries, 0 to 101422\n",
      "Data columns (total 37 columns):\n",
      " #   Column         Non-Null Count   Dtype  \n",
      "---  ------         --------------   -----  \n",
      " 0   Eye ID         101423 non-null  object \n",
      " 1   Final Label    101423 non-null  int64  \n",
      " 2   Fellow Eye ID  93017 non-null   object \n",
      " 3   Age            101409 non-null  float64\n",
      " 4   Label G1       101149 non-null  object \n",
      " 5   Label G2       100046 non-null  object \n",
      " 6   Label G3       8412 non-null    object \n",
      " 7   G1 ANRS        101149 non-null  float64\n",
      " 8   G1 ANRI        101149 non-null  float64\n",
      " 9   G1 RNFLDS      101149 non-null  float64\n",
      " 10  G1 RNFLDI      101149 non-null  float64\n",
      " 11  G1 BCLVS       101149 non-null  float64\n",
      " 12  G1 BCLVI       101149 non-null  float64\n",
      " 13  G1 NVT         101149 non-null  float64\n",
      " 14  G1 DH          101149 non-null  float64\n",
      " 15  G1 LD          101149 non-null  float64\n",
      " 16  G1 LC          101149 non-null  float64\n",
      " 17  G2 ANRS        100046 non-null  float64\n",
      " 18  G2 ANRI        100046 non-null  float64\n",
      " 19  G2 RNFLDS      100046 non-null  float64\n",
      " 20  G2 RNFLDI      100046 non-null  float64\n",
      " 21  G2 BCLVS       100046 non-null  float64\n",
      " 22  G2 BCLVI       100046 non-null  float64\n",
      " 23  G2 NVT         100046 non-null  float64\n",
      " 24  G2 DH          100046 non-null  float64\n",
      " 25  G2 LD          100046 non-null  float64\n",
      " 26  G2 LC          100046 non-null  float64\n",
      " 27  G3 ANRS        8412 non-null    float64\n",
      " 28  G3 ANRI        8412 non-null    float64\n",
      " 29  G3 RNFLDS      8412 non-null    float64\n",
      " 30  G3 RNFLDI      8412 non-null    float64\n",
      " 31  G3 BCLVS       8412 non-null    float64\n",
      " 32  G3 BCLVI       8412 non-null    float64\n",
      " 33  G3 NVT         8412 non-null    float64\n",
      " 34  G3 DH          8412 non-null    float64\n",
      " 35  G3 LD          8412 non-null    float64\n",
      " 36  G3 LC          8412 non-null    float64\n",
      "dtypes: float64(31), int64(1), object(5)\n",
      "memory usage: 28.6+ MB\n"
     ]
    }
   ],
   "source": [
    "df.info()"
   ]
  },
  {
   "cell_type": "code",
   "execution_count": 85,
   "id": "f71c00c3",
   "metadata": {},
   "outputs": [],
   "source": [
    "from sklearn.model_selection import train_test_split\n",
    "from sklearn.metrics import accuracy_score\n",
    "from sklearn.metrics import confusion_matrix\n",
    "import plotly.express as px\n",
    "import pandas as pd\n",
    "import catboost as cb\n",
    "\n",
    "\n",
    "def get_catboost_importance(invoices_gt: pd.DataFrame):\n",
    "\n",
    "    # Data\n",
    "    invoices_gt.fillna(-1,inplace=True)\n",
    "\n",
    "    y = invoices_gt['Final Label']\n",
    "    train = invoices_gt.drop(['Final Label'] ,axis=1)\n",
    "\n",
    "    random_state = 1238\n",
    "    X_train, X_test, y_train, y_test = train_test_split(train, y, test_size = 0.20, random_state = random_state,stratify=y)\n",
    "\n",
    "\n",
    "\n",
    "    #cat = ['Label G1', 'Label G2',\n",
    "    #   'Label G3']\n",
    "    model = cb.CatBoostClassifier( \n",
    "    iterations=500, \n",
    "    learning_rate=0.1\n",
    "    )\n",
    "    \n",
    "    model.fit(X_train, y_train, \n",
    "     \n",
    "        eval_set=(X_test, y_test), \n",
    "    )\n",
    "    pred = model.predict(X_test)\n",
    "\n",
    "    acc = accuracy_score(y_test, pred)\n",
    "\n",
    "    pred = model.predict(train)\n",
    "    mat = confusion_matrix(y, pred)\n",
    "    print(mat)\n",
    "    print('Model Accuracy',acc)\n",
    "\n",
    "    imp = pd.DataFrame()\n",
    "    sorted_feature_importance = model.feature_importances_.argsort()\n",
    "    imp['Feature'] = train.columns[sorted_feature_importance]\n",
    "    imp['importance'] = model.feature_importances_[sorted_feature_importance]\n",
    "    imp.sort_values(by='importance',inplace=True)\n",
    "    fig = px.bar(imp,x='Feature', y='importance')\n",
    "    fig.write_html(\"importance.html\")\n",
    "    fig.show()\n",
    "\n",
    "    return model,pred"
   ]
  },
  {
   "cell_type": "code",
   "execution_count": 87,
   "id": "62304e03",
   "metadata": {},
   "outputs": [
    {
     "name": "stdout",
     "output_type": "stream",
     "text": [
      "0:\tlearn: 0.4461571\ttest: 0.4459270\tbest: 0.4459270 (0)\ttotal: 7.45ms\tremaining: 3.71s\n",
      "1:\tlearn: 0.2568773\ttest: 0.2574218\tbest: 0.2574218 (1)\ttotal: 14.4ms\tremaining: 3.59s\n",
      "2:\tlearn: 0.1501764\ttest: 0.1506468\tbest: 0.1506468 (2)\ttotal: 21.6ms\tremaining: 3.58s\n",
      "3:\tlearn: 0.0811135\ttest: 0.0816249\tbest: 0.0816249 (3)\ttotal: 29.8ms\tremaining: 3.69s\n",
      "4:\tlearn: 0.0504258\ttest: 0.0509586\tbest: 0.0509586 (4)\ttotal: 37.3ms\tremaining: 3.69s\n",
      "5:\tlearn: 0.0329851\ttest: 0.0333632\tbest: 0.0333632 (5)\ttotal: 46ms\tremaining: 3.79s\n",
      "6:\tlearn: 0.0224093\ttest: 0.0226378\tbest: 0.0226378 (6)\ttotal: 53.5ms\tremaining: 3.77s\n",
      "7:\tlearn: 0.0150435\ttest: 0.0152860\tbest: 0.0152860 (7)\ttotal: 61.4ms\tremaining: 3.77s\n",
      "8:\tlearn: 0.0121963\ttest: 0.0123969\tbest: 0.0123969 (8)\ttotal: 68.6ms\tremaining: 3.74s\n",
      "9:\tlearn: 0.0106546\ttest: 0.0108359\tbest: 0.0108359 (9)\ttotal: 75.4ms\tremaining: 3.69s\n",
      "10:\tlearn: 0.0082635\ttest: 0.0084149\tbest: 0.0084149 (10)\ttotal: 82.2ms\tremaining: 3.65s\n",
      "11:\tlearn: 0.0069973\ttest: 0.0071129\tbest: 0.0071129 (11)\ttotal: 88.8ms\tremaining: 3.61s\n",
      "12:\tlearn: 0.0050617\ttest: 0.0051969\tbest: 0.0051969 (12)\ttotal: 95.8ms\tremaining: 3.59s\n",
      "13:\tlearn: 0.0044654\ttest: 0.0045902\tbest: 0.0045902 (13)\ttotal: 102ms\tremaining: 3.55s\n",
      "14:\tlearn: 0.0034139\ttest: 0.0035510\tbest: 0.0035510 (14)\ttotal: 109ms\tremaining: 3.53s\n",
      "15:\tlearn: 0.0030881\ttest: 0.0032180\tbest: 0.0032180 (15)\ttotal: 115ms\tremaining: 3.49s\n",
      "16:\tlearn: 0.0028547\ttest: 0.0029761\tbest: 0.0029761 (16)\ttotal: 121ms\tremaining: 3.45s\n",
      "17:\tlearn: 0.0023150\ttest: 0.0024497\tbest: 0.0024497 (17)\ttotal: 129ms\tremaining: 3.44s\n",
      "18:\tlearn: 0.0019379\ttest: 0.0020826\tbest: 0.0020826 (18)\ttotal: 136ms\tremaining: 3.43s\n",
      "19:\tlearn: 0.0018115\ttest: 0.0019492\tbest: 0.0019492 (19)\ttotal: 142ms\tremaining: 3.4s\n",
      "20:\tlearn: 0.0014218\ttest: 0.0015582\tbest: 0.0015582 (20)\ttotal: 148ms\tremaining: 3.38s\n",
      "21:\tlearn: 0.0012420\ttest: 0.0013905\tbest: 0.0013905 (21)\ttotal: 154ms\tremaining: 3.35s\n",
      "22:\tlearn: 0.0012033\ttest: 0.0013403\tbest: 0.0013403 (22)\ttotal: 160ms\tremaining: 3.32s\n",
      "23:\tlearn: 0.0011044\ttest: 0.0012294\tbest: 0.0012294 (23)\ttotal: 166ms\tremaining: 3.29s\n",
      "24:\tlearn: 0.0010709\ttest: 0.0011929\tbest: 0.0011929 (24)\ttotal: 171ms\tremaining: 3.26s\n",
      "25:\tlearn: 0.0010492\ttest: 0.0011623\tbest: 0.0011623 (25)\ttotal: 177ms\tremaining: 3.22s\n",
      "26:\tlearn: 0.0009938\ttest: 0.0011020\tbest: 0.0011020 (26)\ttotal: 182ms\tremaining: 3.19s\n",
      "27:\tlearn: 0.0009189\ttest: 0.0010380\tbest: 0.0010380 (27)\ttotal: 189ms\tremaining: 3.19s\n",
      "28:\tlearn: 0.0008665\ttest: 0.0009887\tbest: 0.0009887 (28)\ttotal: 196ms\tremaining: 3.19s\n",
      "29:\tlearn: 0.0008091\ttest: 0.0009352\tbest: 0.0009352 (29)\ttotal: 203ms\tremaining: 3.19s\n",
      "30:\tlearn: 0.0006898\ttest: 0.0008075\tbest: 0.0008075 (30)\ttotal: 210ms\tremaining: 3.18s\n",
      "31:\tlearn: 0.0006790\ttest: 0.0007913\tbest: 0.0007913 (31)\ttotal: 217ms\tremaining: 3.17s\n",
      "32:\tlearn: 0.0006550\ttest: 0.0007646\tbest: 0.0007646 (32)\ttotal: 224ms\tremaining: 3.17s\n",
      "33:\tlearn: 0.0006424\ttest: 0.0007520\tbest: 0.0007520 (33)\ttotal: 230ms\tremaining: 3.15s\n",
      "34:\tlearn: 0.0005627\ttest: 0.0006655\tbest: 0.0006655 (34)\ttotal: 237ms\tremaining: 3.15s\n",
      "35:\tlearn: 0.0005560\ttest: 0.0006529\tbest: 0.0006529 (35)\ttotal: 242ms\tremaining: 3.13s\n",
      "36:\tlearn: 0.0004972\ttest: 0.0005877\tbest: 0.0005877 (36)\ttotal: 249ms\tremaining: 3.11s\n",
      "37:\tlearn: 0.0004832\ttest: 0.0005784\tbest: 0.0005784 (37)\ttotal: 256ms\tremaining: 3.11s\n",
      "38:\tlearn: 0.0004547\ttest: 0.0005489\tbest: 0.0005489 (38)\ttotal: 262ms\tremaining: 3.1s\n",
      "39:\tlearn: 0.0004507\ttest: 0.0005435\tbest: 0.0005435 (39)\ttotal: 269ms\tremaining: 3.09s\n",
      "40:\tlearn: 0.0004156\ttest: 0.0005015\tbest: 0.0005015 (40)\ttotal: 275ms\tremaining: 3.08s\n",
      "41:\tlearn: 0.0004032\ttest: 0.0004907\tbest: 0.0004907 (41)\ttotal: 282ms\tremaining: 3.07s\n",
      "42:\tlearn: 0.0003974\ttest: 0.0004752\tbest: 0.0004752 (42)\ttotal: 288ms\tremaining: 3.06s\n",
      "43:\tlearn: 0.0003950\ttest: 0.0004694\tbest: 0.0004694 (43)\ttotal: 294ms\tremaining: 3.04s\n",
      "44:\tlearn: 0.0003847\ttest: 0.0004627\tbest: 0.0004627 (44)\ttotal: 301ms\tremaining: 3.04s\n",
      "45:\tlearn: 0.0003690\ttest: 0.0004503\tbest: 0.0004503 (45)\ttotal: 308ms\tremaining: 3.04s\n",
      "46:\tlearn: 0.0003423\ttest: 0.0004257\tbest: 0.0004257 (46)\ttotal: 315ms\tremaining: 3.04s\n",
      "47:\tlearn: 0.0003387\ttest: 0.0004195\tbest: 0.0004195 (47)\ttotal: 322ms\tremaining: 3.03s\n",
      "48:\tlearn: 0.0003330\ttest: 0.0004144\tbest: 0.0004144 (48)\ttotal: 328ms\tremaining: 3.02s\n",
      "49:\tlearn: 0.0003103\ttest: 0.0003953\tbest: 0.0003953 (49)\ttotal: 336ms\tremaining: 3.02s\n",
      "50:\tlearn: 0.0003035\ttest: 0.0003907\tbest: 0.0003907 (50)\ttotal: 342ms\tremaining: 3.01s\n",
      "51:\tlearn: 0.0002987\ttest: 0.0003865\tbest: 0.0003865 (51)\ttotal: 349ms\tremaining: 3.01s\n",
      "52:\tlearn: 0.0002784\ttest: 0.0003783\tbest: 0.0003783 (52)\ttotal: 356ms\tremaining: 3s\n",
      "53:\tlearn: 0.0002733\ttest: 0.0003745\tbest: 0.0003745 (53)\ttotal: 363ms\tremaining: 3s\n",
      "54:\tlearn: 0.0002697\ttest: 0.0003711\tbest: 0.0003711 (54)\ttotal: 369ms\tremaining: 2.98s\n",
      "55:\tlearn: 0.0002514\ttest: 0.0003459\tbest: 0.0003459 (55)\ttotal: 376ms\tremaining: 2.98s\n",
      "56:\tlearn: 0.0002404\ttest: 0.0003332\tbest: 0.0003332 (56)\ttotal: 382ms\tremaining: 2.97s\n",
      "57:\tlearn: 0.0002276\ttest: 0.0003207\tbest: 0.0003207 (57)\ttotal: 389ms\tremaining: 2.96s\n",
      "58:\tlearn: 0.0002240\ttest: 0.0003136\tbest: 0.0003136 (58)\ttotal: 395ms\tremaining: 2.95s\n",
      "59:\tlearn: 0.0002211\ttest: 0.0003109\tbest: 0.0003109 (59)\ttotal: 400ms\tremaining: 2.94s\n",
      "60:\tlearn: 0.0002051\ttest: 0.0002899\tbest: 0.0002899 (60)\ttotal: 407ms\tremaining: 2.93s\n",
      "61:\tlearn: 0.0002027\ttest: 0.0002875\tbest: 0.0002875 (61)\ttotal: 413ms\tremaining: 2.92s\n",
      "62:\tlearn: 0.0001901\ttest: 0.0002700\tbest: 0.0002700 (62)\ttotal: 420ms\tremaining: 2.92s\n",
      "63:\tlearn: 0.0001843\ttest: 0.0002657\tbest: 0.0002657 (63)\ttotal: 427ms\tremaining: 2.91s\n",
      "64:\tlearn: 0.0001792\ttest: 0.0002558\tbest: 0.0002558 (64)\ttotal: 434ms\tremaining: 2.9s\n",
      "65:\tlearn: 0.0001768\ttest: 0.0002544\tbest: 0.0002544 (65)\ttotal: 440ms\tremaining: 2.89s\n",
      "66:\tlearn: 0.0001746\ttest: 0.0002525\tbest: 0.0002525 (66)\ttotal: 446ms\tremaining: 2.88s\n",
      "67:\tlearn: 0.0001728\ttest: 0.0002505\tbest: 0.0002505 (67)\ttotal: 456ms\tremaining: 2.89s\n",
      "68:\tlearn: 0.0001668\ttest: 0.0002431\tbest: 0.0002431 (68)\ttotal: 462ms\tremaining: 2.88s\n",
      "69:\tlearn: 0.0001595\ttest: 0.0002352\tbest: 0.0002352 (69)\ttotal: 468ms\tremaining: 2.87s\n",
      "70:\tlearn: 0.0001580\ttest: 0.0002335\tbest: 0.0002335 (70)\ttotal: 474ms\tremaining: 2.86s\n",
      "71:\tlearn: 0.0001530\ttest: 0.0002284\tbest: 0.0002284 (71)\ttotal: 480ms\tremaining: 2.85s\n",
      "72:\tlearn: 0.0001503\ttest: 0.0002256\tbest: 0.0002256 (72)\ttotal: 486ms\tremaining: 2.84s\n",
      "73:\tlearn: 0.0001476\ttest: 0.0002244\tbest: 0.0002244 (73)\ttotal: 492ms\tremaining: 2.83s\n",
      "74:\tlearn: 0.0001476\ttest: 0.0002244\tbest: 0.0002244 (74)\ttotal: 497ms\tremaining: 2.81s\n",
      "75:\tlearn: 0.0001424\ttest: 0.0002190\tbest: 0.0002190 (75)\ttotal: 504ms\tremaining: 2.81s\n",
      "76:\tlearn: 0.0001401\ttest: 0.0002172\tbest: 0.0002172 (76)\ttotal: 510ms\tremaining: 2.8s\n",
      "77:\tlearn: 0.0001386\ttest: 0.0002162\tbest: 0.0002162 (77)\ttotal: 516ms\tremaining: 2.79s\n",
      "78:\tlearn: 0.0001343\ttest: 0.0002142\tbest: 0.0002142 (78)\ttotal: 526ms\tremaining: 2.8s\n",
      "79:\tlearn: 0.0001343\ttest: 0.0002142\tbest: 0.0002142 (78)\ttotal: 530ms\tremaining: 2.78s\n",
      "80:\tlearn: 0.0001343\ttest: 0.0002142\tbest: 0.0002142 (78)\ttotal: 535ms\tremaining: 2.77s\n",
      "81:\tlearn: 0.0001343\ttest: 0.0002142\tbest: 0.0002142 (78)\ttotal: 540ms\tremaining: 2.75s\n",
      "82:\tlearn: 0.0001307\ttest: 0.0002097\tbest: 0.0002097 (82)\ttotal: 546ms\tremaining: 2.74s\n",
      "83:\tlearn: 0.0001295\ttest: 0.0002089\tbest: 0.0002089 (83)\ttotal: 552ms\tremaining: 2.73s\n",
      "84:\tlearn: 0.0001284\ttest: 0.0002073\tbest: 0.0002073 (84)\ttotal: 557ms\tremaining: 2.72s\n",
      "85:\tlearn: 0.0001284\ttest: 0.0002073\tbest: 0.0002073 (84)\ttotal: 561ms\tremaining: 2.7s\n",
      "86:\tlearn: 0.0001284\ttest: 0.0002073\tbest: 0.0002073 (84)\ttotal: 566ms\tremaining: 2.69s\n",
      "87:\tlearn: 0.0001284\ttest: 0.0002073\tbest: 0.0002073 (84)\ttotal: 571ms\tremaining: 2.67s\n",
      "88:\tlearn: 0.0001258\ttest: 0.0002057\tbest: 0.0002057 (88)\ttotal: 577ms\tremaining: 2.66s\n",
      "89:\tlearn: 0.0001258\ttest: 0.0002057\tbest: 0.0002057 (88)\ttotal: 582ms\tremaining: 2.65s\n",
      "90:\tlearn: 0.0001258\ttest: 0.0002057\tbest: 0.0002057 (88)\ttotal: 586ms\tremaining: 2.63s\n",
      "91:\tlearn: 0.0001217\ttest: 0.0001982\tbest: 0.0001982 (91)\ttotal: 592ms\tremaining: 2.63s\n",
      "92:\tlearn: 0.0001217\ttest: 0.0001982\tbest: 0.0001982 (91)\ttotal: 598ms\tremaining: 2.62s\n",
      "93:\tlearn: 0.0001197\ttest: 0.0001943\tbest: 0.0001943 (93)\ttotal: 604ms\tremaining: 2.61s\n",
      "94:\tlearn: 0.0001197\ttest: 0.0001943\tbest: 0.0001943 (93)\ttotal: 608ms\tremaining: 2.59s\n",
      "95:\tlearn: 0.0001197\ttest: 0.0001943\tbest: 0.0001943 (93)\ttotal: 612ms\tremaining: 2.58s\n",
      "96:\tlearn: 0.0001197\ttest: 0.0001943\tbest: 0.0001943 (93)\ttotal: 617ms\tremaining: 2.56s\n",
      "97:\tlearn: 0.0001197\ttest: 0.0001943\tbest: 0.0001943 (93)\ttotal: 621ms\tremaining: 2.55s\n",
      "98:\tlearn: 0.0001197\ttest: 0.0001943\tbest: 0.0001943 (93)\ttotal: 627ms\tremaining: 2.54s\n",
      "99:\tlearn: 0.0001197\ttest: 0.0001943\tbest: 0.0001943 (99)\ttotal: 632ms\tremaining: 2.53s\n",
      "100:\tlearn: 0.0001197\ttest: 0.0001943\tbest: 0.0001943 (99)\ttotal: 637ms\tremaining: 2.52s\n",
      "101:\tlearn: 0.0001197\ttest: 0.0001943\tbest: 0.0001943 (99)\ttotal: 641ms\tremaining: 2.5s\n",
      "102:\tlearn: 0.0001197\ttest: 0.0001943\tbest: 0.0001943 (99)\ttotal: 646ms\tremaining: 2.49s\n",
      "103:\tlearn: 0.0001197\ttest: 0.0001943\tbest: 0.0001943 (99)\ttotal: 651ms\tremaining: 2.48s\n",
      "104:\tlearn: 0.0001177\ttest: 0.0001929\tbest: 0.0001929 (104)\ttotal: 658ms\tremaining: 2.48s\n",
      "105:\tlearn: 0.0001177\ttest: 0.0001929\tbest: 0.0001929 (104)\ttotal: 663ms\tremaining: 2.47s\n",
      "106:\tlearn: 0.0001177\ttest: 0.0001929\tbest: 0.0001929 (104)\ttotal: 668ms\tremaining: 2.45s\n",
      "107:\tlearn: 0.0001177\ttest: 0.0001929\tbest: 0.0001929 (104)\ttotal: 673ms\tremaining: 2.44s\n",
      "108:\tlearn: 0.0001177\ttest: 0.0001929\tbest: 0.0001929 (104)\ttotal: 678ms\tremaining: 2.43s\n",
      "109:\tlearn: 0.0001177\ttest: 0.0001929\tbest: 0.0001929 (104)\ttotal: 682ms\tremaining: 2.42s\n",
      "110:\tlearn: 0.0001177\ttest: 0.0001929\tbest: 0.0001929 (104)\ttotal: 686ms\tremaining: 2.4s\n",
      "111:\tlearn: 0.0001177\ttest: 0.0001929\tbest: 0.0001929 (104)\ttotal: 691ms\tremaining: 2.39s\n",
      "112:\tlearn: 0.0001177\ttest: 0.0001929\tbest: 0.0001929 (104)\ttotal: 695ms\tremaining: 2.38s\n",
      "113:\tlearn: 0.0001177\ttest: 0.0001929\tbest: 0.0001929 (104)\ttotal: 700ms\tremaining: 2.37s\n",
      "114:\tlearn: 0.0001151\ttest: 0.0001881\tbest: 0.0001881 (114)\ttotal: 706ms\tremaining: 2.36s\n",
      "115:\tlearn: 0.0001143\ttest: 0.0001876\tbest: 0.0001876 (115)\ttotal: 712ms\tremaining: 2.35s\n",
      "116:\tlearn: 0.0001137\ttest: 0.0001871\tbest: 0.0001871 (116)\ttotal: 717ms\tremaining: 2.35s\n",
      "117:\tlearn: 0.0001128\ttest: 0.0001867\tbest: 0.0001867 (117)\ttotal: 724ms\tremaining: 2.34s\n",
      "118:\tlearn: 0.0001092\ttest: 0.0001830\tbest: 0.0001830 (118)\ttotal: 730ms\tremaining: 2.34s\n",
      "119:\tlearn: 0.0001075\ttest: 0.0001821\tbest: 0.0001821 (119)\ttotal: 736ms\tremaining: 2.33s\n",
      "120:\tlearn: 0.0001075\ttest: 0.0001821\tbest: 0.0001821 (119)\ttotal: 741ms\tremaining: 2.32s\n",
      "121:\tlearn: 0.0001075\ttest: 0.0001821\tbest: 0.0001821 (119)\ttotal: 745ms\tremaining: 2.31s\n",
      "122:\tlearn: 0.0001075\ttest: 0.0001821\tbest: 0.0001821 (119)\ttotal: 750ms\tremaining: 2.3s\n",
      "123:\tlearn: 0.0001075\ttest: 0.0001821\tbest: 0.0001821 (119)\ttotal: 754ms\tremaining: 2.29s\n",
      "124:\tlearn: 0.0001075\ttest: 0.0001821\tbest: 0.0001821 (119)\ttotal: 759ms\tremaining: 2.28s\n",
      "125:\tlearn: 0.0001064\ttest: 0.0001813\tbest: 0.0001813 (125)\ttotal: 765ms\tremaining: 2.27s\n",
      "126:\tlearn: 0.0001064\ttest: 0.0001813\tbest: 0.0001813 (125)\ttotal: 770ms\tremaining: 2.26s\n",
      "127:\tlearn: 0.0001064\ttest: 0.0001813\tbest: 0.0001813 (125)\ttotal: 774ms\tremaining: 2.25s\n",
      "128:\tlearn: 0.0001034\ttest: 0.0001776\tbest: 0.0001776 (128)\ttotal: 780ms\tremaining: 2.24s\n",
      "129:\tlearn: 0.0001034\ttest: 0.0001776\tbest: 0.0001776 (128)\ttotal: 785ms\tremaining: 2.23s\n",
      "130:\tlearn: 0.0001034\ttest: 0.0001776\tbest: 0.0001776 (128)\ttotal: 789ms\tremaining: 2.22s\n",
      "131:\tlearn: 0.0001034\ttest: 0.0001776\tbest: 0.0001776 (128)\ttotal: 794ms\tremaining: 2.21s\n",
      "132:\tlearn: 0.0001034\ttest: 0.0001776\tbest: 0.0001776 (128)\ttotal: 799ms\tremaining: 2.2s\n",
      "133:\tlearn: 0.0001034\ttest: 0.0001776\tbest: 0.0001776 (128)\ttotal: 803ms\tremaining: 2.19s\n",
      "134:\tlearn: 0.0001034\ttest: 0.0001776\tbest: 0.0001776 (128)\ttotal: 807ms\tremaining: 2.18s\n",
      "135:\tlearn: 0.0001034\ttest: 0.0001776\tbest: 0.0001776 (128)\ttotal: 812ms\tremaining: 2.17s\n",
      "136:\tlearn: 0.0001034\ttest: 0.0001776\tbest: 0.0001776 (128)\ttotal: 817ms\tremaining: 2.16s\n",
      "137:\tlearn: 0.0001034\ttest: 0.0001776\tbest: 0.0001776 (128)\ttotal: 821ms\tremaining: 2.15s\n",
      "138:\tlearn: 0.0001034\ttest: 0.0001776\tbest: 0.0001776 (128)\ttotal: 826ms\tremaining: 2.14s\n",
      "139:\tlearn: 0.0001034\ttest: 0.0001776\tbest: 0.0001776 (128)\ttotal: 830ms\tremaining: 2.13s\n",
      "140:\tlearn: 0.0001034\ttest: 0.0001776\tbest: 0.0001776 (128)\ttotal: 834ms\tremaining: 2.12s\n",
      "141:\tlearn: 0.0001034\ttest: 0.0001776\tbest: 0.0001776 (128)\ttotal: 839ms\tremaining: 2.11s\n",
      "142:\tlearn: 0.0001034\ttest: 0.0001776\tbest: 0.0001776 (128)\ttotal: 844ms\tremaining: 2.1s\n",
      "143:\tlearn: 0.0001034\ttest: 0.0001776\tbest: 0.0001776 (128)\ttotal: 848ms\tremaining: 2.1s\n",
      "144:\tlearn: 0.0001034\ttest: 0.0001776\tbest: 0.0001776 (128)\ttotal: 853ms\tremaining: 2.09s\n",
      "145:\tlearn: 0.0001034\ttest: 0.0001776\tbest: 0.0001776 (128)\ttotal: 857ms\tremaining: 2.08s\n",
      "146:\tlearn: 0.0001022\ttest: 0.0001767\tbest: 0.0001767 (146)\ttotal: 863ms\tremaining: 2.07s\n",
      "147:\tlearn: 0.0001022\ttest: 0.0001767\tbest: 0.0001767 (146)\ttotal: 868ms\tremaining: 2.06s\n",
      "148:\tlearn: 0.0001022\ttest: 0.0001767\tbest: 0.0001767 (146)\ttotal: 872ms\tremaining: 2.06s\n",
      "149:\tlearn: 0.0001022\ttest: 0.0001767\tbest: 0.0001767 (146)\ttotal: 877ms\tremaining: 2.05s\n",
      "150:\tlearn: 0.0001022\ttest: 0.0001767\tbest: 0.0001767 (146)\ttotal: 881ms\tremaining: 2.04s\n",
      "151:\tlearn: 0.0001022\ttest: 0.0001767\tbest: 0.0001767 (146)\ttotal: 886ms\tremaining: 2.03s\n",
      "152:\tlearn: 0.0001022\ttest: 0.0001767\tbest: 0.0001767 (146)\ttotal: 890ms\tremaining: 2.02s\n",
      "153:\tlearn: 0.0001022\ttest: 0.0001767\tbest: 0.0001767 (146)\ttotal: 894ms\tremaining: 2.01s\n",
      "154:\tlearn: 0.0001022\ttest: 0.0001767\tbest: 0.0001767 (146)\ttotal: 899ms\tremaining: 2s\n",
      "155:\tlearn: 0.0001022\ttest: 0.0001767\tbest: 0.0001767 (146)\ttotal: 904ms\tremaining: 1.99s\n",
      "156:\tlearn: 0.0001022\ttest: 0.0001767\tbest: 0.0001767 (146)\ttotal: 909ms\tremaining: 1.98s\n",
      "157:\tlearn: 0.0001022\ttest: 0.0001767\tbest: 0.0001767 (146)\ttotal: 913ms\tremaining: 1.98s\n",
      "158:\tlearn: 0.0001022\ttest: 0.0001767\tbest: 0.0001767 (146)\ttotal: 919ms\tremaining: 1.97s\n",
      "159:\tlearn: 0.0001022\ttest: 0.0001767\tbest: 0.0001767 (146)\ttotal: 924ms\tremaining: 1.96s\n",
      "160:\tlearn: 0.0001022\ttest: 0.0001767\tbest: 0.0001767 (146)\ttotal: 929ms\tremaining: 1.96s\n",
      "161:\tlearn: 0.0001022\ttest: 0.0001767\tbest: 0.0001767 (146)\ttotal: 933ms\tremaining: 1.95s\n",
      "162:\tlearn: 0.0001003\ttest: 0.0001736\tbest: 0.0001736 (162)\ttotal: 939ms\tremaining: 1.94s\n",
      "163:\tlearn: 0.0001003\ttest: 0.0001736\tbest: 0.0001736 (162)\ttotal: 943ms\tremaining: 1.93s\n",
      "164:\tlearn: 0.0001003\ttest: 0.0001736\tbest: 0.0001736 (162)\ttotal: 948ms\tremaining: 1.92s\n",
      "165:\tlearn: 0.0001003\ttest: 0.0001736\tbest: 0.0001736 (162)\ttotal: 952ms\tremaining: 1.92s\n",
      "166:\tlearn: 0.0001003\ttest: 0.0001736\tbest: 0.0001736 (162)\ttotal: 957ms\tremaining: 1.91s\n",
      "167:\tlearn: 0.0001003\ttest: 0.0001736\tbest: 0.0001736 (162)\ttotal: 961ms\tremaining: 1.9s\n",
      "168:\tlearn: 0.0001003\ttest: 0.0001736\tbest: 0.0001736 (162)\ttotal: 966ms\tremaining: 1.89s\n",
      "169:\tlearn: 0.0001003\ttest: 0.0001736\tbest: 0.0001736 (162)\ttotal: 970ms\tremaining: 1.88s\n",
      "170:\tlearn: 0.0001003\ttest: 0.0001736\tbest: 0.0001736 (162)\ttotal: 975ms\tremaining: 1.88s\n",
      "171:\tlearn: 0.0000997\ttest: 0.0001719\tbest: 0.0001719 (171)\ttotal: 980ms\tremaining: 1.87s\n",
      "172:\tlearn: 0.0000997\ttest: 0.0001719\tbest: 0.0001719 (171)\ttotal: 985ms\tremaining: 1.86s\n",
      "173:\tlearn: 0.0000983\ttest: 0.0001720\tbest: 0.0001719 (171)\ttotal: 991ms\tremaining: 1.85s\n",
      "174:\tlearn: 0.0000983\ttest: 0.0001720\tbest: 0.0001719 (171)\ttotal: 995ms\tremaining: 1.85s\n",
      "175:\tlearn: 0.0000983\ttest: 0.0001720\tbest: 0.0001719 (171)\ttotal: 1000ms\tremaining: 1.84s\n",
      "176:\tlearn: 0.0000983\ttest: 0.0001720\tbest: 0.0001719 (171)\ttotal: 1s\tremaining: 1.83s\n",
      "177:\tlearn: 0.0000983\ttest: 0.0001720\tbest: 0.0001719 (171)\ttotal: 1.01s\tremaining: 1.82s\n",
      "178:\tlearn: 0.0000983\ttest: 0.0001720\tbest: 0.0001719 (171)\ttotal: 1.01s\tremaining: 1.82s\n",
      "179:\tlearn: 0.0000983\ttest: 0.0001720\tbest: 0.0001719 (171)\ttotal: 1.02s\tremaining: 1.81s\n",
      "180:\tlearn: 0.0000983\ttest: 0.0001720\tbest: 0.0001719 (171)\ttotal: 1.02s\tremaining: 1.8s\n",
      "181:\tlearn: 0.0000983\ttest: 0.0001720\tbest: 0.0001719 (171)\ttotal: 1.03s\tremaining: 1.8s\n",
      "182:\tlearn: 0.0000983\ttest: 0.0001720\tbest: 0.0001719 (171)\ttotal: 1.03s\tremaining: 1.79s\n",
      "183:\tlearn: 0.0000983\ttest: 0.0001720\tbest: 0.0001719 (171)\ttotal: 1.04s\tremaining: 1.78s\n",
      "184:\tlearn: 0.0000983\ttest: 0.0001720\tbest: 0.0001719 (171)\ttotal: 1.04s\tremaining: 1.77s\n",
      "185:\tlearn: 0.0000983\ttest: 0.0001720\tbest: 0.0001719 (171)\ttotal: 1.05s\tremaining: 1.77s\n",
      "186:\tlearn: 0.0000983\ttest: 0.0001720\tbest: 0.0001719 (171)\ttotal: 1.05s\tremaining: 1.76s\n",
      "187:\tlearn: 0.0000983\ttest: 0.0001720\tbest: 0.0001719 (171)\ttotal: 1.05s\tremaining: 1.75s\n",
      "188:\tlearn: 0.0000983\ttest: 0.0001720\tbest: 0.0001719 (171)\ttotal: 1.06s\tremaining: 1.74s\n",
      "189:\tlearn: 0.0000983\ttest: 0.0001720\tbest: 0.0001719 (171)\ttotal: 1.06s\tremaining: 1.74s\n",
      "190:\tlearn: 0.0000983\ttest: 0.0001720\tbest: 0.0001719 (171)\ttotal: 1.07s\tremaining: 1.73s\n",
      "191:\tlearn: 0.0000983\ttest: 0.0001720\tbest: 0.0001719 (171)\ttotal: 1.07s\tremaining: 1.72s\n",
      "192:\tlearn: 0.0000983\ttest: 0.0001720\tbest: 0.0001719 (171)\ttotal: 1.08s\tremaining: 1.71s\n",
      "193:\tlearn: 0.0000983\ttest: 0.0001720\tbest: 0.0001719 (171)\ttotal: 1.08s\tremaining: 1.71s\n",
      "194:\tlearn: 0.0000983\ttest: 0.0001720\tbest: 0.0001719 (171)\ttotal: 1.09s\tremaining: 1.7s\n",
      "195:\tlearn: 0.0000983\ttest: 0.0001720\tbest: 0.0001719 (171)\ttotal: 1.09s\tremaining: 1.69s\n",
      "196:\tlearn: 0.0000983\ttest: 0.0001720\tbest: 0.0001719 (171)\ttotal: 1.1s\tremaining: 1.69s\n",
      "197:\tlearn: 0.0000983\ttest: 0.0001720\tbest: 0.0001719 (171)\ttotal: 1.1s\tremaining: 1.68s\n",
      "198:\tlearn: 0.0000983\ttest: 0.0001720\tbest: 0.0001719 (171)\ttotal: 1.1s\tremaining: 1.67s\n",
      "199:\tlearn: 0.0000983\ttest: 0.0001720\tbest: 0.0001719 (171)\ttotal: 1.11s\tremaining: 1.66s\n",
      "200:\tlearn: 0.0000983\ttest: 0.0001720\tbest: 0.0001719 (171)\ttotal: 1.11s\tremaining: 1.66s\n",
      "201:\tlearn: 0.0000983\ttest: 0.0001720\tbest: 0.0001719 (171)\ttotal: 1.12s\tremaining: 1.65s\n",
      "202:\tlearn: 0.0000983\ttest: 0.0001720\tbest: 0.0001719 (171)\ttotal: 1.12s\tremaining: 1.64s\n",
      "203:\tlearn: 0.0000983\ttest: 0.0001720\tbest: 0.0001719 (171)\ttotal: 1.13s\tremaining: 1.64s\n",
      "204:\tlearn: 0.0000983\ttest: 0.0001720\tbest: 0.0001719 (171)\ttotal: 1.13s\tremaining: 1.63s\n",
      "205:\tlearn: 0.0000983\ttest: 0.0001720\tbest: 0.0001719 (171)\ttotal: 1.14s\tremaining: 1.62s\n",
      "206:\tlearn: 0.0000983\ttest: 0.0001720\tbest: 0.0001719 (171)\ttotal: 1.14s\tremaining: 1.62s\n",
      "207:\tlearn: 0.0000983\ttest: 0.0001720\tbest: 0.0001719 (171)\ttotal: 1.15s\tremaining: 1.61s\n",
      "208:\tlearn: 0.0000983\ttest: 0.0001720\tbest: 0.0001719 (171)\ttotal: 1.15s\tremaining: 1.6s\n",
      "209:\tlearn: 0.0000983\ttest: 0.0001720\tbest: 0.0001719 (171)\ttotal: 1.16s\tremaining: 1.59s\n",
      "210:\tlearn: 0.0000983\ttest: 0.0001720\tbest: 0.0001719 (171)\ttotal: 1.16s\tremaining: 1.59s\n",
      "211:\tlearn: 0.0000983\ttest: 0.0001720\tbest: 0.0001719 (171)\ttotal: 1.16s\tremaining: 1.58s\n",
      "212:\tlearn: 0.0000983\ttest: 0.0001720\tbest: 0.0001719 (171)\ttotal: 1.17s\tremaining: 1.57s\n",
      "213:\tlearn: 0.0000983\ttest: 0.0001720\tbest: 0.0001719 (171)\ttotal: 1.17s\tremaining: 1.57s\n",
      "214:\tlearn: 0.0000983\ttest: 0.0001720\tbest: 0.0001719 (171)\ttotal: 1.18s\tremaining: 1.56s\n",
      "215:\tlearn: 0.0000983\ttest: 0.0001720\tbest: 0.0001719 (171)\ttotal: 1.18s\tremaining: 1.55s\n",
      "216:\tlearn: 0.0000983\ttest: 0.0001720\tbest: 0.0001719 (171)\ttotal: 1.19s\tremaining: 1.55s\n",
      "217:\tlearn: 0.0000983\ttest: 0.0001720\tbest: 0.0001719 (171)\ttotal: 1.19s\tremaining: 1.54s\n",
      "218:\tlearn: 0.0000983\ttest: 0.0001720\tbest: 0.0001719 (171)\ttotal: 1.2s\tremaining: 1.53s\n",
      "219:\tlearn: 0.0000983\ttest: 0.0001720\tbest: 0.0001719 (171)\ttotal: 1.2s\tremaining: 1.53s\n",
      "220:\tlearn: 0.0000983\ttest: 0.0001720\tbest: 0.0001719 (171)\ttotal: 1.2s\tremaining: 1.52s\n",
      "221:\tlearn: 0.0000983\ttest: 0.0001720\tbest: 0.0001719 (171)\ttotal: 1.21s\tremaining: 1.51s\n",
      "222:\tlearn: 0.0000983\ttest: 0.0001720\tbest: 0.0001719 (171)\ttotal: 1.21s\tremaining: 1.51s\n",
      "223:\tlearn: 0.0000983\ttest: 0.0001720\tbest: 0.0001719 (171)\ttotal: 1.22s\tremaining: 1.5s\n",
      "224:\tlearn: 0.0000983\ttest: 0.0001720\tbest: 0.0001719 (171)\ttotal: 1.22s\tremaining: 1.49s\n",
      "225:\tlearn: 0.0000983\ttest: 0.0001720\tbest: 0.0001719 (171)\ttotal: 1.23s\tremaining: 1.49s\n",
      "226:\tlearn: 0.0000983\ttest: 0.0001720\tbest: 0.0001719 (171)\ttotal: 1.23s\tremaining: 1.48s\n",
      "227:\tlearn: 0.0000983\ttest: 0.0001720\tbest: 0.0001719 (171)\ttotal: 1.24s\tremaining: 1.47s\n",
      "228:\tlearn: 0.0000983\ttest: 0.0001720\tbest: 0.0001719 (171)\ttotal: 1.24s\tremaining: 1.47s\n",
      "229:\tlearn: 0.0000983\ttest: 0.0001720\tbest: 0.0001719 (171)\ttotal: 1.24s\tremaining: 1.46s\n",
      "230:\tlearn: 0.0000983\ttest: 0.0001720\tbest: 0.0001719 (171)\ttotal: 1.25s\tremaining: 1.45s\n",
      "231:\tlearn: 0.0000983\ttest: 0.0001720\tbest: 0.0001719 (171)\ttotal: 1.25s\tremaining: 1.45s\n",
      "232:\tlearn: 0.0000983\ttest: 0.0001720\tbest: 0.0001719 (171)\ttotal: 1.26s\tremaining: 1.44s\n",
      "233:\tlearn: 0.0000983\ttest: 0.0001720\tbest: 0.0001719 (171)\ttotal: 1.26s\tremaining: 1.43s\n",
      "234:\tlearn: 0.0000983\ttest: 0.0001720\tbest: 0.0001719 (171)\ttotal: 1.27s\tremaining: 1.43s\n",
      "235:\tlearn: 0.0000983\ttest: 0.0001720\tbest: 0.0001719 (171)\ttotal: 1.27s\tremaining: 1.42s\n",
      "236:\tlearn: 0.0000983\ttest: 0.0001720\tbest: 0.0001719 (171)\ttotal: 1.27s\tremaining: 1.42s\n",
      "237:\tlearn: 0.0000983\ttest: 0.0001720\tbest: 0.0001719 (171)\ttotal: 1.28s\tremaining: 1.41s\n",
      "238:\tlearn: 0.0000983\ttest: 0.0001720\tbest: 0.0001719 (171)\ttotal: 1.28s\tremaining: 1.4s\n",
      "239:\tlearn: 0.0000983\ttest: 0.0001720\tbest: 0.0001719 (171)\ttotal: 1.29s\tremaining: 1.4s\n",
      "240:\tlearn: 0.0000983\ttest: 0.0001720\tbest: 0.0001719 (171)\ttotal: 1.29s\tremaining: 1.39s\n",
      "241:\tlearn: 0.0000983\ttest: 0.0001720\tbest: 0.0001719 (171)\ttotal: 1.3s\tremaining: 1.38s\n",
      "242:\tlearn: 0.0000983\ttest: 0.0001720\tbest: 0.0001719 (171)\ttotal: 1.3s\tremaining: 1.38s\n",
      "243:\tlearn: 0.0000983\ttest: 0.0001720\tbest: 0.0001719 (171)\ttotal: 1.31s\tremaining: 1.37s\n",
      "244:\tlearn: 0.0000983\ttest: 0.0001720\tbest: 0.0001719 (171)\ttotal: 1.31s\tremaining: 1.37s\n",
      "245:\tlearn: 0.0000983\ttest: 0.0001720\tbest: 0.0001719 (171)\ttotal: 1.32s\tremaining: 1.36s\n",
      "246:\tlearn: 0.0000983\ttest: 0.0001720\tbest: 0.0001719 (171)\ttotal: 1.32s\tremaining: 1.35s\n",
      "247:\tlearn: 0.0000983\ttest: 0.0001720\tbest: 0.0001719 (171)\ttotal: 1.33s\tremaining: 1.35s\n",
      "248:\tlearn: 0.0000983\ttest: 0.0001720\tbest: 0.0001719 (171)\ttotal: 1.33s\tremaining: 1.34s\n",
      "249:\tlearn: 0.0000983\ttest: 0.0001720\tbest: 0.0001719 (171)\ttotal: 1.33s\tremaining: 1.33s\n",
      "250:\tlearn: 0.0000983\ttest: 0.0001720\tbest: 0.0001719 (171)\ttotal: 1.34s\tremaining: 1.33s\n",
      "251:\tlearn: 0.0000983\ttest: 0.0001720\tbest: 0.0001719 (171)\ttotal: 1.34s\tremaining: 1.32s\n",
      "252:\tlearn: 0.0000983\ttest: 0.0001720\tbest: 0.0001719 (171)\ttotal: 1.35s\tremaining: 1.31s\n",
      "253:\tlearn: 0.0000983\ttest: 0.0001720\tbest: 0.0001719 (171)\ttotal: 1.35s\tremaining: 1.31s\n",
      "254:\tlearn: 0.0000983\ttest: 0.0001720\tbest: 0.0001719 (171)\ttotal: 1.36s\tremaining: 1.3s\n",
      "255:\tlearn: 0.0000983\ttest: 0.0001720\tbest: 0.0001719 (171)\ttotal: 1.36s\tremaining: 1.3s\n",
      "256:\tlearn: 0.0000983\ttest: 0.0001720\tbest: 0.0001719 (171)\ttotal: 1.36s\tremaining: 1.29s\n",
      "257:\tlearn: 0.0000983\ttest: 0.0001720\tbest: 0.0001719 (171)\ttotal: 1.37s\tremaining: 1.28s\n",
      "258:\tlearn: 0.0000983\ttest: 0.0001720\tbest: 0.0001719 (171)\ttotal: 1.37s\tremaining: 1.28s\n",
      "259:\tlearn: 0.0000983\ttest: 0.0001720\tbest: 0.0001719 (171)\ttotal: 1.38s\tremaining: 1.27s\n",
      "260:\tlearn: 0.0000983\ttest: 0.0001720\tbest: 0.0001719 (171)\ttotal: 1.38s\tremaining: 1.27s\n",
      "261:\tlearn: 0.0000983\ttest: 0.0001720\tbest: 0.0001719 (171)\ttotal: 1.39s\tremaining: 1.26s\n",
      "262:\tlearn: 0.0000983\ttest: 0.0001720\tbest: 0.0001719 (171)\ttotal: 1.39s\tremaining: 1.25s\n",
      "263:\tlearn: 0.0000983\ttest: 0.0001720\tbest: 0.0001719 (171)\ttotal: 1.4s\tremaining: 1.25s\n",
      "264:\tlearn: 0.0000983\ttest: 0.0001720\tbest: 0.0001719 (171)\ttotal: 1.4s\tremaining: 1.24s\n",
      "265:\tlearn: 0.0000983\ttest: 0.0001720\tbest: 0.0001719 (171)\ttotal: 1.41s\tremaining: 1.24s\n",
      "266:\tlearn: 0.0000983\ttest: 0.0001720\tbest: 0.0001719 (171)\ttotal: 1.41s\tremaining: 1.23s\n",
      "267:\tlearn: 0.0000983\ttest: 0.0001720\tbest: 0.0001719 (171)\ttotal: 1.41s\tremaining: 1.22s\n",
      "268:\tlearn: 0.0000983\ttest: 0.0001720\tbest: 0.0001719 (171)\ttotal: 1.42s\tremaining: 1.22s\n",
      "269:\tlearn: 0.0000983\ttest: 0.0001720\tbest: 0.0001719 (171)\ttotal: 1.42s\tremaining: 1.21s\n",
      "270:\tlearn: 0.0000983\ttest: 0.0001720\tbest: 0.0001719 (171)\ttotal: 1.43s\tremaining: 1.21s\n",
      "271:\tlearn: 0.0000983\ttest: 0.0001720\tbest: 0.0001719 (171)\ttotal: 1.43s\tremaining: 1.2s\n",
      "272:\tlearn: 0.0000983\ttest: 0.0001720\tbest: 0.0001719 (171)\ttotal: 1.44s\tremaining: 1.19s\n",
      "273:\tlearn: 0.0000983\ttest: 0.0001720\tbest: 0.0001719 (171)\ttotal: 1.44s\tremaining: 1.19s\n",
      "274:\tlearn: 0.0000983\ttest: 0.0001720\tbest: 0.0001719 (171)\ttotal: 1.45s\tremaining: 1.18s\n",
      "275:\tlearn: 0.0000983\ttest: 0.0001720\tbest: 0.0001719 (171)\ttotal: 1.45s\tremaining: 1.18s\n",
      "276:\tlearn: 0.0000983\ttest: 0.0001720\tbest: 0.0001719 (171)\ttotal: 1.45s\tremaining: 1.17s\n",
      "277:\tlearn: 0.0000983\ttest: 0.0001720\tbest: 0.0001719 (171)\ttotal: 1.46s\tremaining: 1.16s\n",
      "278:\tlearn: 0.0000983\ttest: 0.0001720\tbest: 0.0001719 (171)\ttotal: 1.46s\tremaining: 1.16s\n",
      "279:\tlearn: 0.0000983\ttest: 0.0001720\tbest: 0.0001719 (171)\ttotal: 1.47s\tremaining: 1.15s\n",
      "280:\tlearn: 0.0000983\ttest: 0.0001720\tbest: 0.0001719 (171)\ttotal: 1.47s\tremaining: 1.15s\n",
      "281:\tlearn: 0.0000983\ttest: 0.0001720\tbest: 0.0001719 (171)\ttotal: 1.48s\tremaining: 1.14s\n",
      "282:\tlearn: 0.0000983\ttest: 0.0001720\tbest: 0.0001719 (171)\ttotal: 1.48s\tremaining: 1.14s\n",
      "283:\tlearn: 0.0000983\ttest: 0.0001720\tbest: 0.0001719 (171)\ttotal: 1.49s\tremaining: 1.13s\n",
      "284:\tlearn: 0.0000983\ttest: 0.0001720\tbest: 0.0001719 (171)\ttotal: 1.49s\tremaining: 1.12s\n",
      "285:\tlearn: 0.0000983\ttest: 0.0001720\tbest: 0.0001719 (171)\ttotal: 1.5s\tremaining: 1.12s\n",
      "286:\tlearn: 0.0000983\ttest: 0.0001720\tbest: 0.0001719 (171)\ttotal: 1.5s\tremaining: 1.11s\n",
      "287:\tlearn: 0.0000983\ttest: 0.0001720\tbest: 0.0001719 (171)\ttotal: 1.5s\tremaining: 1.11s\n",
      "288:\tlearn: 0.0000983\ttest: 0.0001720\tbest: 0.0001719 (171)\ttotal: 1.51s\tremaining: 1.1s\n",
      "289:\tlearn: 0.0000983\ttest: 0.0001720\tbest: 0.0001719 (171)\ttotal: 1.51s\tremaining: 1.1s\n",
      "290:\tlearn: 0.0000983\ttest: 0.0001720\tbest: 0.0001719 (171)\ttotal: 1.52s\tremaining: 1.09s\n",
      "291:\tlearn: 0.0000983\ttest: 0.0001720\tbest: 0.0001719 (171)\ttotal: 1.52s\tremaining: 1.08s\n",
      "292:\tlearn: 0.0000983\ttest: 0.0001720\tbest: 0.0001719 (171)\ttotal: 1.53s\tremaining: 1.08s\n",
      "293:\tlearn: 0.0000983\ttest: 0.0001720\tbest: 0.0001719 (171)\ttotal: 1.53s\tremaining: 1.07s\n",
      "294:\tlearn: 0.0000983\ttest: 0.0001720\tbest: 0.0001719 (171)\ttotal: 1.54s\tremaining: 1.07s\n",
      "295:\tlearn: 0.0000983\ttest: 0.0001720\tbest: 0.0001719 (171)\ttotal: 1.54s\tremaining: 1.06s\n",
      "296:\tlearn: 0.0000983\ttest: 0.0001720\tbest: 0.0001719 (171)\ttotal: 1.55s\tremaining: 1.06s\n",
      "297:\tlearn: 0.0000983\ttest: 0.0001720\tbest: 0.0001719 (171)\ttotal: 1.55s\tremaining: 1.05s\n",
      "298:\tlearn: 0.0000983\ttest: 0.0001720\tbest: 0.0001719 (171)\ttotal: 1.55s\tremaining: 1.04s\n",
      "299:\tlearn: 0.0000983\ttest: 0.0001720\tbest: 0.0001719 (171)\ttotal: 1.56s\tremaining: 1.04s\n",
      "300:\tlearn: 0.0000983\ttest: 0.0001720\tbest: 0.0001719 (171)\ttotal: 1.56s\tremaining: 1.03s\n",
      "301:\tlearn: 0.0000983\ttest: 0.0001720\tbest: 0.0001719 (171)\ttotal: 1.57s\tremaining: 1.03s\n",
      "302:\tlearn: 0.0000983\ttest: 0.0001720\tbest: 0.0001719 (171)\ttotal: 1.57s\tremaining: 1.02s\n",
      "303:\tlearn: 0.0000983\ttest: 0.0001720\tbest: 0.0001719 (171)\ttotal: 1.58s\tremaining: 1.02s\n",
      "304:\tlearn: 0.0000983\ttest: 0.0001720\tbest: 0.0001719 (171)\ttotal: 1.58s\tremaining: 1.01s\n",
      "305:\tlearn: 0.0000983\ttest: 0.0001720\tbest: 0.0001719 (171)\ttotal: 1.59s\tremaining: 1.01s\n",
      "306:\tlearn: 0.0000983\ttest: 0.0001720\tbest: 0.0001719 (171)\ttotal: 1.59s\tremaining: 1s\n",
      "307:\tlearn: 0.0000983\ttest: 0.0001720\tbest: 0.0001719 (171)\ttotal: 1.6s\tremaining: 996ms\n",
      "308:\tlearn: 0.0000983\ttest: 0.0001720\tbest: 0.0001719 (171)\ttotal: 1.6s\tremaining: 990ms\n",
      "309:\tlearn: 0.0000983\ttest: 0.0001720\tbest: 0.0001719 (171)\ttotal: 1.61s\tremaining: 984ms\n",
      "310:\tlearn: 0.0000983\ttest: 0.0001720\tbest: 0.0001719 (171)\ttotal: 1.61s\tremaining: 979ms\n",
      "311:\tlearn: 0.0000983\ttest: 0.0001720\tbest: 0.0001719 (171)\ttotal: 1.61s\tremaining: 974ms\n",
      "312:\tlearn: 0.0000983\ttest: 0.0001720\tbest: 0.0001719 (171)\ttotal: 1.62s\tremaining: 968ms\n",
      "313:\tlearn: 0.0000983\ttest: 0.0001720\tbest: 0.0001719 (171)\ttotal: 1.63s\tremaining: 963ms\n",
      "314:\tlearn: 0.0000983\ttest: 0.0001720\tbest: 0.0001719 (171)\ttotal: 1.63s\tremaining: 957ms\n",
      "315:\tlearn: 0.0000983\ttest: 0.0001720\tbest: 0.0001719 (171)\ttotal: 1.63s\tremaining: 952ms\n",
      "316:\tlearn: 0.0000983\ttest: 0.0001720\tbest: 0.0001719 (171)\ttotal: 1.64s\tremaining: 946ms\n",
      "317:\tlearn: 0.0000983\ttest: 0.0001720\tbest: 0.0001719 (171)\ttotal: 1.64s\tremaining: 941ms\n",
      "318:\tlearn: 0.0000983\ttest: 0.0001720\tbest: 0.0001719 (171)\ttotal: 1.65s\tremaining: 935ms\n",
      "319:\tlearn: 0.0000983\ttest: 0.0001720\tbest: 0.0001719 (171)\ttotal: 1.65s\tremaining: 930ms\n",
      "320:\tlearn: 0.0000983\ttest: 0.0001720\tbest: 0.0001719 (171)\ttotal: 1.66s\tremaining: 924ms\n",
      "321:\tlearn: 0.0000983\ttest: 0.0001720\tbest: 0.0001719 (171)\ttotal: 1.66s\tremaining: 919ms\n",
      "322:\tlearn: 0.0000983\ttest: 0.0001720\tbest: 0.0001719 (171)\ttotal: 1.67s\tremaining: 913ms\n",
      "323:\tlearn: 0.0000983\ttest: 0.0001720\tbest: 0.0001719 (171)\ttotal: 1.67s\tremaining: 908ms\n",
      "324:\tlearn: 0.0000983\ttest: 0.0001720\tbest: 0.0001719 (171)\ttotal: 1.68s\tremaining: 902ms\n",
      "325:\tlearn: 0.0000983\ttest: 0.0001720\tbest: 0.0001719 (171)\ttotal: 1.68s\tremaining: 899ms\n",
      "326:\tlearn: 0.0000983\ttest: 0.0001720\tbest: 0.0001719 (171)\ttotal: 1.69s\tremaining: 894ms\n",
      "327:\tlearn: 0.0000983\ttest: 0.0001720\tbest: 0.0001719 (171)\ttotal: 1.69s\tremaining: 888ms\n",
      "328:\tlearn: 0.0000983\ttest: 0.0001720\tbest: 0.0001719 (171)\ttotal: 1.7s\tremaining: 883ms\n",
      "329:\tlearn: 0.0000983\ttest: 0.0001720\tbest: 0.0001719 (171)\ttotal: 1.7s\tremaining: 877ms\n",
      "330:\tlearn: 0.0000983\ttest: 0.0001720\tbest: 0.0001719 (171)\ttotal: 1.71s\tremaining: 872ms\n",
      "331:\tlearn: 0.0000983\ttest: 0.0001720\tbest: 0.0001719 (171)\ttotal: 1.71s\tremaining: 866ms\n",
      "332:\tlearn: 0.0000983\ttest: 0.0001720\tbest: 0.0001719 (171)\ttotal: 1.72s\tremaining: 860ms\n",
      "333:\tlearn: 0.0000983\ttest: 0.0001720\tbest: 0.0001719 (171)\ttotal: 1.72s\tremaining: 855ms\n",
      "334:\tlearn: 0.0000983\ttest: 0.0001720\tbest: 0.0001719 (171)\ttotal: 1.72s\tremaining: 850ms\n",
      "335:\tlearn: 0.0000983\ttest: 0.0001720\tbest: 0.0001719 (171)\ttotal: 1.73s\tremaining: 844ms\n",
      "336:\tlearn: 0.0000970\ttest: 0.0001694\tbest: 0.0001694 (336)\ttotal: 1.74s\tremaining: 839ms\n",
      "337:\tlearn: 0.0000970\ttest: 0.0001694\tbest: 0.0001694 (336)\ttotal: 1.74s\tremaining: 834ms\n",
      "338:\tlearn: 0.0000970\ttest: 0.0001694\tbest: 0.0001694 (336)\ttotal: 1.74s\tremaining: 829ms\n",
      "339:\tlearn: 0.0000970\ttest: 0.0001694\tbest: 0.0001694 (336)\ttotal: 1.75s\tremaining: 823ms\n",
      "340:\tlearn: 0.0000970\ttest: 0.0001694\tbest: 0.0001694 (336)\ttotal: 1.75s\tremaining: 818ms\n",
      "341:\tlearn: 0.0000970\ttest: 0.0001694\tbest: 0.0001694 (341)\ttotal: 1.76s\tremaining: 812ms\n",
      "342:\tlearn: 0.0000970\ttest: 0.0001694\tbest: 0.0001694 (341)\ttotal: 1.76s\tremaining: 807ms\n",
      "343:\tlearn: 0.0000970\ttest: 0.0001694\tbest: 0.0001694 (341)\ttotal: 1.77s\tremaining: 802ms\n",
      "344:\tlearn: 0.0000970\ttest: 0.0001694\tbest: 0.0001694 (344)\ttotal: 1.77s\tremaining: 796ms\n",
      "345:\tlearn: 0.0000970\ttest: 0.0001694\tbest: 0.0001694 (344)\ttotal: 1.78s\tremaining: 791ms\n",
      "346:\tlearn: 0.0000970\ttest: 0.0001694\tbest: 0.0001694 (344)\ttotal: 1.78s\tremaining: 786ms\n",
      "347:\tlearn: 0.0000970\ttest: 0.0001694\tbest: 0.0001694 (344)\ttotal: 1.79s\tremaining: 780ms\n",
      "348:\tlearn: 0.0000970\ttest: 0.0001694\tbest: 0.0001694 (344)\ttotal: 1.79s\tremaining: 775ms\n",
      "349:\tlearn: 0.0000970\ttest: 0.0001694\tbest: 0.0001694 (344)\ttotal: 1.79s\tremaining: 769ms\n",
      "350:\tlearn: 0.0000970\ttest: 0.0001694\tbest: 0.0001694 (344)\ttotal: 1.8s\tremaining: 764ms\n",
      "351:\tlearn: 0.0000970\ttest: 0.0001694\tbest: 0.0001694 (351)\ttotal: 1.8s\tremaining: 759ms\n",
      "352:\tlearn: 0.0000970\ttest: 0.0001694\tbest: 0.0001694 (352)\ttotal: 1.81s\tremaining: 753ms\n",
      "353:\tlearn: 0.0000970\ttest: 0.0001694\tbest: 0.0001694 (352)\ttotal: 1.81s\tremaining: 748ms\n",
      "354:\tlearn: 0.0000970\ttest: 0.0001694\tbest: 0.0001694 (354)\ttotal: 1.82s\tremaining: 743ms\n",
      "355:\tlearn: 0.0000970\ttest: 0.0001694\tbest: 0.0001694 (354)\ttotal: 1.82s\tremaining: 737ms\n",
      "356:\tlearn: 0.0000970\ttest: 0.0001694\tbest: 0.0001694 (356)\ttotal: 1.83s\tremaining: 732ms\n",
      "357:\tlearn: 0.0000970\ttest: 0.0001694\tbest: 0.0001694 (356)\ttotal: 1.83s\tremaining: 727ms\n",
      "358:\tlearn: 0.0000970\ttest: 0.0001694\tbest: 0.0001694 (358)\ttotal: 1.84s\tremaining: 722ms\n",
      "359:\tlearn: 0.0000970\ttest: 0.0001694\tbest: 0.0001694 (358)\ttotal: 1.84s\tremaining: 716ms\n",
      "360:\tlearn: 0.0000970\ttest: 0.0001694\tbest: 0.0001694 (358)\ttotal: 1.84s\tremaining: 711ms\n",
      "361:\tlearn: 0.0000970\ttest: 0.0001694\tbest: 0.0001694 (358)\ttotal: 1.85s\tremaining: 705ms\n",
      "362:\tlearn: 0.0000970\ttest: 0.0001694\tbest: 0.0001694 (358)\ttotal: 1.85s\tremaining: 700ms\n",
      "363:\tlearn: 0.0000970\ttest: 0.0001694\tbest: 0.0001694 (358)\ttotal: 1.86s\tremaining: 694ms\n",
      "364:\tlearn: 0.0000970\ttest: 0.0001694\tbest: 0.0001694 (358)\ttotal: 1.86s\tremaining: 689ms\n",
      "365:\tlearn: 0.0000970\ttest: 0.0001694\tbest: 0.0001694 (365)\ttotal: 1.87s\tremaining: 684ms\n",
      "366:\tlearn: 0.0000970\ttest: 0.0001694\tbest: 0.0001694 (365)\ttotal: 1.87s\tremaining: 678ms\n",
      "367:\tlearn: 0.0000970\ttest: 0.0001694\tbest: 0.0001694 (365)\ttotal: 1.88s\tremaining: 673ms\n",
      "368:\tlearn: 0.0000970\ttest: 0.0001694\tbest: 0.0001694 (365)\ttotal: 1.88s\tremaining: 667ms\n",
      "369:\tlearn: 0.0000970\ttest: 0.0001694\tbest: 0.0001694 (365)\ttotal: 1.88s\tremaining: 662ms\n",
      "370:\tlearn: 0.0000970\ttest: 0.0001694\tbest: 0.0001694 (365)\ttotal: 1.89s\tremaining: 656ms\n",
      "371:\tlearn: 0.0000970\ttest: 0.0001694\tbest: 0.0001694 (365)\ttotal: 1.89s\tremaining: 651ms\n",
      "372:\tlearn: 0.0000970\ttest: 0.0001694\tbest: 0.0001694 (365)\ttotal: 1.9s\tremaining: 646ms\n",
      "373:\tlearn: 0.0000970\ttest: 0.0001694\tbest: 0.0001694 (373)\ttotal: 1.9s\tremaining: 640ms\n",
      "374:\tlearn: 0.0000970\ttest: 0.0001694\tbest: 0.0001694 (373)\ttotal: 1.91s\tremaining: 635ms\n",
      "375:\tlearn: 0.0000970\ttest: 0.0001694\tbest: 0.0001694 (373)\ttotal: 1.91s\tremaining: 630ms\n",
      "376:\tlearn: 0.0000970\ttest: 0.0001694\tbest: 0.0001694 (373)\ttotal: 1.91s\tremaining: 625ms\n",
      "377:\tlearn: 0.0000970\ttest: 0.0001694\tbest: 0.0001694 (373)\ttotal: 1.92s\tremaining: 620ms\n",
      "378:\tlearn: 0.0000970\ttest: 0.0001694\tbest: 0.0001694 (373)\ttotal: 1.92s\tremaining: 614ms\n",
      "379:\tlearn: 0.0000970\ttest: 0.0001694\tbest: 0.0001694 (373)\ttotal: 1.93s\tremaining: 609ms\n",
      "380:\tlearn: 0.0000970\ttest: 0.0001694\tbest: 0.0001694 (373)\ttotal: 1.93s\tremaining: 604ms\n",
      "381:\tlearn: 0.0000970\ttest: 0.0001694\tbest: 0.0001694 (373)\ttotal: 1.94s\tremaining: 599ms\n",
      "382:\tlearn: 0.0000970\ttest: 0.0001694\tbest: 0.0001694 (373)\ttotal: 1.94s\tremaining: 594ms\n",
      "383:\tlearn: 0.0000970\ttest: 0.0001694\tbest: 0.0001694 (373)\ttotal: 1.95s\tremaining: 588ms\n",
      "384:\tlearn: 0.0000970\ttest: 0.0001694\tbest: 0.0001694 (373)\ttotal: 1.95s\tremaining: 583ms\n",
      "385:\tlearn: 0.0000970\ttest: 0.0001694\tbest: 0.0001694 (373)\ttotal: 1.96s\tremaining: 578ms\n",
      "386:\tlearn: 0.0000970\ttest: 0.0001694\tbest: 0.0001694 (373)\ttotal: 1.96s\tremaining: 573ms\n",
      "387:\tlearn: 0.0000970\ttest: 0.0001694\tbest: 0.0001694 (373)\ttotal: 1.97s\tremaining: 568ms\n",
      "388:\tlearn: 0.0000970\ttest: 0.0001694\tbest: 0.0001694 (373)\ttotal: 1.97s\tremaining: 562ms\n",
      "389:\tlearn: 0.0000970\ttest: 0.0001694\tbest: 0.0001694 (373)\ttotal: 1.98s\tremaining: 557ms\n",
      "390:\tlearn: 0.0000970\ttest: 0.0001694\tbest: 0.0001694 (373)\ttotal: 1.98s\tremaining: 552ms\n",
      "391:\tlearn: 0.0000970\ttest: 0.0001694\tbest: 0.0001694 (373)\ttotal: 1.99s\tremaining: 547ms\n",
      "392:\tlearn: 0.0000970\ttest: 0.0001694\tbest: 0.0001694 (373)\ttotal: 1.99s\tremaining: 542ms\n",
      "393:\tlearn: 0.0000970\ttest: 0.0001694\tbest: 0.0001694 (373)\ttotal: 1.99s\tremaining: 537ms\n",
      "394:\tlearn: 0.0000970\ttest: 0.0001694\tbest: 0.0001694 (373)\ttotal: 2s\tremaining: 531ms\n",
      "395:\tlearn: 0.0000970\ttest: 0.0001694\tbest: 0.0001694 (373)\ttotal: 2s\tremaining: 526ms\n",
      "396:\tlearn: 0.0000970\ttest: 0.0001694\tbest: 0.0001694 (396)\ttotal: 2.01s\tremaining: 521ms\n",
      "397:\tlearn: 0.0000970\ttest: 0.0001694\tbest: 0.0001694 (396)\ttotal: 2.01s\tremaining: 516ms\n",
      "398:\tlearn: 0.0000970\ttest: 0.0001694\tbest: 0.0001694 (398)\ttotal: 2.02s\tremaining: 511ms\n",
      "399:\tlearn: 0.0000970\ttest: 0.0001694\tbest: 0.0001694 (398)\ttotal: 2.02s\tremaining: 506ms\n",
      "400:\tlearn: 0.0000970\ttest: 0.0001694\tbest: 0.0001694 (400)\ttotal: 2.03s\tremaining: 500ms\n",
      "401:\tlearn: 0.0000970\ttest: 0.0001694\tbest: 0.0001694 (400)\ttotal: 2.03s\tremaining: 495ms\n",
      "402:\tlearn: 0.0000970\ttest: 0.0001694\tbest: 0.0001694 (400)\ttotal: 2.04s\tremaining: 490ms\n",
      "403:\tlearn: 0.0000970\ttest: 0.0001694\tbest: 0.0001694 (400)\ttotal: 2.04s\tremaining: 485ms\n",
      "404:\tlearn: 0.0000970\ttest: 0.0001694\tbest: 0.0001694 (400)\ttotal: 2.04s\tremaining: 480ms\n",
      "405:\tlearn: 0.0000970\ttest: 0.0001694\tbest: 0.0001694 (400)\ttotal: 2.05s\tremaining: 475ms\n",
      "406:\tlearn: 0.0000970\ttest: 0.0001694\tbest: 0.0001694 (400)\ttotal: 2.05s\tremaining: 469ms\n",
      "407:\tlearn: 0.0000970\ttest: 0.0001694\tbest: 0.0001694 (400)\ttotal: 2.06s\tremaining: 464ms\n",
      "408:\tlearn: 0.0000970\ttest: 0.0001694\tbest: 0.0001694 (400)\ttotal: 2.06s\tremaining: 459ms\n",
      "409:\tlearn: 0.0000970\ttest: 0.0001694\tbest: 0.0001694 (400)\ttotal: 2.07s\tremaining: 454ms\n",
      "410:\tlearn: 0.0000970\ttest: 0.0001694\tbest: 0.0001694 (400)\ttotal: 2.07s\tremaining: 448ms\n",
      "411:\tlearn: 0.0000970\ttest: 0.0001694\tbest: 0.0001694 (400)\ttotal: 2.07s\tremaining: 443ms\n",
      "412:\tlearn: 0.0000970\ttest: 0.0001694\tbest: 0.0001694 (400)\ttotal: 2.08s\tremaining: 438ms\n",
      "413:\tlearn: 0.0000970\ttest: 0.0001694\tbest: 0.0001694 (400)\ttotal: 2.08s\tremaining: 433ms\n",
      "414:\tlearn: 0.0000970\ttest: 0.0001694\tbest: 0.0001694 (400)\ttotal: 2.09s\tremaining: 428ms\n",
      "415:\tlearn: 0.0000970\ttest: 0.0001694\tbest: 0.0001694 (400)\ttotal: 2.09s\tremaining: 422ms\n",
      "416:\tlearn: 0.0000970\ttest: 0.0001694\tbest: 0.0001694 (416)\ttotal: 2.1s\tremaining: 417ms\n",
      "417:\tlearn: 0.0000970\ttest: 0.0001694\tbest: 0.0001694 (416)\ttotal: 2.1s\tremaining: 412ms\n",
      "418:\tlearn: 0.0000970\ttest: 0.0001694\tbest: 0.0001694 (416)\ttotal: 2.1s\tremaining: 407ms\n",
      "419:\tlearn: 0.0000970\ttest: 0.0001694\tbest: 0.0001694 (419)\ttotal: 2.11s\tremaining: 402ms\n",
      "420:\tlearn: 0.0000970\ttest: 0.0001694\tbest: 0.0001694 (419)\ttotal: 2.11s\tremaining: 396ms\n",
      "421:\tlearn: 0.0000970\ttest: 0.0001694\tbest: 0.0001694 (419)\ttotal: 2.12s\tremaining: 391ms\n",
      "422:\tlearn: 0.0000970\ttest: 0.0001694\tbest: 0.0001694 (422)\ttotal: 2.12s\tremaining: 386ms\n",
      "423:\tlearn: 0.0000970\ttest: 0.0001694\tbest: 0.0001694 (422)\ttotal: 2.12s\tremaining: 381ms\n",
      "424:\tlearn: 0.0000970\ttest: 0.0001694\tbest: 0.0001694 (424)\ttotal: 2.13s\tremaining: 376ms\n",
      "425:\tlearn: 0.0000970\ttest: 0.0001694\tbest: 0.0001694 (424)\ttotal: 2.13s\tremaining: 371ms\n",
      "426:\tlearn: 0.0000970\ttest: 0.0001694\tbest: 0.0001694 (424)\ttotal: 2.14s\tremaining: 365ms\n",
      "427:\tlearn: 0.0000970\ttest: 0.0001694\tbest: 0.0001694 (424)\ttotal: 2.14s\tremaining: 360ms\n",
      "428:\tlearn: 0.0000970\ttest: 0.0001694\tbest: 0.0001694 (424)\ttotal: 2.15s\tremaining: 355ms\n",
      "429:\tlearn: 0.0000970\ttest: 0.0001694\tbest: 0.0001694 (424)\ttotal: 2.15s\tremaining: 350ms\n",
      "430:\tlearn: 0.0000970\ttest: 0.0001694\tbest: 0.0001694 (424)\ttotal: 2.15s\tremaining: 345ms\n",
      "431:\tlearn: 0.0000970\ttest: 0.0001694\tbest: 0.0001694 (431)\ttotal: 2.16s\tremaining: 340ms\n",
      "432:\tlearn: 0.0000970\ttest: 0.0001694\tbest: 0.0001694 (431)\ttotal: 2.16s\tremaining: 335ms\n",
      "433:\tlearn: 0.0000970\ttest: 0.0001694\tbest: 0.0001694 (431)\ttotal: 2.17s\tremaining: 330ms\n",
      "434:\tlearn: 0.0000970\ttest: 0.0001694\tbest: 0.0001694 (431)\ttotal: 2.17s\tremaining: 325ms\n",
      "435:\tlearn: 0.0000970\ttest: 0.0001694\tbest: 0.0001694 (431)\ttotal: 2.18s\tremaining: 320ms\n",
      "436:\tlearn: 0.0000970\ttest: 0.0001694\tbest: 0.0001694 (431)\ttotal: 2.18s\tremaining: 315ms\n",
      "437:\tlearn: 0.0000970\ttest: 0.0001694\tbest: 0.0001694 (437)\ttotal: 2.19s\tremaining: 310ms\n",
      "438:\tlearn: 0.0000970\ttest: 0.0001694\tbest: 0.0001694 (437)\ttotal: 2.19s\tremaining: 304ms\n",
      "439:\tlearn: 0.0000970\ttest: 0.0001694\tbest: 0.0001694 (437)\ttotal: 2.19s\tremaining: 299ms\n",
      "440:\tlearn: 0.0000970\ttest: 0.0001694\tbest: 0.0001694 (437)\ttotal: 2.2s\tremaining: 294ms\n",
      "441:\tlearn: 0.0000970\ttest: 0.0001694\tbest: 0.0001694 (441)\ttotal: 2.2s\tremaining: 289ms\n",
      "442:\tlearn: 0.0000970\ttest: 0.0001694\tbest: 0.0001694 (441)\ttotal: 2.21s\tremaining: 284ms\n",
      "443:\tlearn: 0.0000970\ttest: 0.0001694\tbest: 0.0001694 (441)\ttotal: 2.21s\tremaining: 279ms\n",
      "444:\tlearn: 0.0000970\ttest: 0.0001694\tbest: 0.0001694 (441)\ttotal: 2.22s\tremaining: 274ms\n",
      "445:\tlearn: 0.0000970\ttest: 0.0001694\tbest: 0.0001694 (441)\ttotal: 2.22s\tremaining: 269ms\n",
      "446:\tlearn: 0.0000970\ttest: 0.0001694\tbest: 0.0001694 (441)\ttotal: 2.23s\tremaining: 264ms\n",
      "447:\tlearn: 0.0000970\ttest: 0.0001694\tbest: 0.0001694 (441)\ttotal: 2.23s\tremaining: 259ms\n",
      "448:\tlearn: 0.0000970\ttest: 0.0001694\tbest: 0.0001694 (441)\ttotal: 2.23s\tremaining: 254ms\n",
      "449:\tlearn: 0.0000970\ttest: 0.0001694\tbest: 0.0001694 (441)\ttotal: 2.24s\tremaining: 249ms\n",
      "450:\tlearn: 0.0000970\ttest: 0.0001694\tbest: 0.0001694 (441)\ttotal: 2.24s\tremaining: 244ms\n",
      "451:\tlearn: 0.0000970\ttest: 0.0001694\tbest: 0.0001694 (441)\ttotal: 2.25s\tremaining: 239ms\n",
      "452:\tlearn: 0.0000970\ttest: 0.0001694\tbest: 0.0001694 (441)\ttotal: 2.25s\tremaining: 234ms\n",
      "453:\tlearn: 0.0000970\ttest: 0.0001694\tbest: 0.0001694 (441)\ttotal: 2.25s\tremaining: 229ms\n",
      "454:\tlearn: 0.0000970\ttest: 0.0001694\tbest: 0.0001694 (441)\ttotal: 2.26s\tremaining: 223ms\n",
      "455:\tlearn: 0.0000970\ttest: 0.0001694\tbest: 0.0001694 (441)\ttotal: 2.26s\tremaining: 218ms\n",
      "456:\tlearn: 0.0000970\ttest: 0.0001694\tbest: 0.0001694 (441)\ttotal: 2.27s\tremaining: 213ms\n",
      "457:\tlearn: 0.0000970\ttest: 0.0001694\tbest: 0.0001694 (457)\ttotal: 2.27s\tremaining: 208ms\n",
      "458:\tlearn: 0.0000970\ttest: 0.0001694\tbest: 0.0001694 (457)\ttotal: 2.28s\tremaining: 203ms\n",
      "459:\tlearn: 0.0000970\ttest: 0.0001694\tbest: 0.0001694 (457)\ttotal: 2.28s\tremaining: 198ms\n",
      "460:\tlearn: 0.0000970\ttest: 0.0001694\tbest: 0.0001694 (457)\ttotal: 2.29s\tremaining: 193ms\n",
      "461:\tlearn: 0.0000970\ttest: 0.0001694\tbest: 0.0001694 (457)\ttotal: 2.29s\tremaining: 188ms\n",
      "462:\tlearn: 0.0000970\ttest: 0.0001694\tbest: 0.0001694 (457)\ttotal: 2.29s\tremaining: 183ms\n",
      "463:\tlearn: 0.0000970\ttest: 0.0001694\tbest: 0.0001694 (457)\ttotal: 2.3s\tremaining: 178ms\n",
      "464:\tlearn: 0.0000970\ttest: 0.0001694\tbest: 0.0001694 (464)\ttotal: 2.3s\tremaining: 173ms\n",
      "465:\tlearn: 0.0000970\ttest: 0.0001694\tbest: 0.0001694 (464)\ttotal: 2.31s\tremaining: 168ms\n",
      "466:\tlearn: 0.0000970\ttest: 0.0001694\tbest: 0.0001694 (464)\ttotal: 2.31s\tremaining: 163ms\n",
      "467:\tlearn: 0.0000970\ttest: 0.0001694\tbest: 0.0001694 (464)\ttotal: 2.31s\tremaining: 158ms\n",
      "468:\tlearn: 0.0000970\ttest: 0.0001694\tbest: 0.0001694 (464)\ttotal: 2.32s\tremaining: 153ms\n",
      "469:\tlearn: 0.0000970\ttest: 0.0001694\tbest: 0.0001694 (464)\ttotal: 2.32s\tremaining: 148ms\n",
      "470:\tlearn: 0.0000970\ttest: 0.0001694\tbest: 0.0001694 (464)\ttotal: 2.33s\tremaining: 143ms\n",
      "471:\tlearn: 0.0000970\ttest: 0.0001694\tbest: 0.0001694 (464)\ttotal: 2.33s\tremaining: 138ms\n",
      "472:\tlearn: 0.0000970\ttest: 0.0001694\tbest: 0.0001694 (464)\ttotal: 2.34s\tremaining: 133ms\n",
      "473:\tlearn: 0.0000970\ttest: 0.0001694\tbest: 0.0001694 (464)\ttotal: 2.34s\tremaining: 128ms\n",
      "474:\tlearn: 0.0000970\ttest: 0.0001694\tbest: 0.0001694 (464)\ttotal: 2.34s\tremaining: 123ms\n",
      "475:\tlearn: 0.0000970\ttest: 0.0001694\tbest: 0.0001694 (464)\ttotal: 2.35s\tremaining: 118ms\n",
      "476:\tlearn: 0.0000970\ttest: 0.0001694\tbest: 0.0001694 (464)\ttotal: 2.35s\tremaining: 113ms\n",
      "477:\tlearn: 0.0000970\ttest: 0.0001694\tbest: 0.0001694 (464)\ttotal: 2.36s\tremaining: 109ms\n",
      "478:\tlearn: 0.0000970\ttest: 0.0001694\tbest: 0.0001694 (464)\ttotal: 2.36s\tremaining: 104ms\n",
      "479:\tlearn: 0.0000970\ttest: 0.0001694\tbest: 0.0001694 (464)\ttotal: 2.37s\tremaining: 98.6ms\n",
      "480:\tlearn: 0.0000970\ttest: 0.0001694\tbest: 0.0001694 (464)\ttotal: 2.37s\tremaining: 93.6ms\n",
      "481:\tlearn: 0.0000970\ttest: 0.0001694\tbest: 0.0001694 (464)\ttotal: 2.37s\tremaining: 88.7ms\n",
      "482:\tlearn: 0.0000970\ttest: 0.0001694\tbest: 0.0001694 (464)\ttotal: 2.38s\tremaining: 83.7ms\n",
      "483:\tlearn: 0.0000970\ttest: 0.0001694\tbest: 0.0001694 (464)\ttotal: 2.38s\tremaining: 78.8ms\n",
      "484:\tlearn: 0.0000970\ttest: 0.0001694\tbest: 0.0001694 (464)\ttotal: 2.39s\tremaining: 73.8ms\n",
      "485:\tlearn: 0.0000970\ttest: 0.0001694\tbest: 0.0001694 (464)\ttotal: 2.39s\tremaining: 68.9ms\n",
      "486:\tlearn: 0.0000970\ttest: 0.0001694\tbest: 0.0001694 (464)\ttotal: 2.4s\tremaining: 63.9ms\n",
      "487:\tlearn: 0.0000970\ttest: 0.0001694\tbest: 0.0001694 (464)\ttotal: 2.4s\tremaining: 59ms\n",
      "488:\tlearn: 0.0000970\ttest: 0.0001694\tbest: 0.0001694 (464)\ttotal: 2.4s\tremaining: 54.1ms\n",
      "489:\tlearn: 0.0000970\ttest: 0.0001694\tbest: 0.0001694 (464)\ttotal: 2.41s\tremaining: 49.1ms\n",
      "490:\tlearn: 0.0000970\ttest: 0.0001694\tbest: 0.0001694 (464)\ttotal: 2.41s\tremaining: 44.2ms\n",
      "491:\tlearn: 0.0000970\ttest: 0.0001694\tbest: 0.0001694 (464)\ttotal: 2.42s\tremaining: 39.3ms\n",
      "492:\tlearn: 0.0000970\ttest: 0.0001694\tbest: 0.0001694 (464)\ttotal: 2.42s\tremaining: 34.4ms\n",
      "493:\tlearn: 0.0000970\ttest: 0.0001694\tbest: 0.0001694 (464)\ttotal: 2.43s\tremaining: 29.5ms\n",
      "494:\tlearn: 0.0000970\ttest: 0.0001694\tbest: 0.0001694 (464)\ttotal: 2.43s\tremaining: 24.6ms\n",
      "495:\tlearn: 0.0000970\ttest: 0.0001694\tbest: 0.0001694 (464)\ttotal: 2.44s\tremaining: 19.6ms\n",
      "496:\tlearn: 0.0000970\ttest: 0.0001694\tbest: 0.0001694 (464)\ttotal: 2.44s\tremaining: 14.7ms\n",
      "497:\tlearn: 0.0000970\ttest: 0.0001694\tbest: 0.0001694 (464)\ttotal: 2.44s\tremaining: 9.81ms\n",
      "498:\tlearn: 0.0000970\ttest: 0.0001694\tbest: 0.0001694 (464)\ttotal: 2.45s\tremaining: 4.91ms\n",
      "499:\tlearn: 0.0000970\ttest: 0.0001694\tbest: 0.0001694 (464)\ttotal: 2.45s\tremaining: 0us\n",
      "\n",
      "bestTest = 0.0001693847623\n",
      "bestIteration = 464\n",
      "\n",
      "Shrink model to first 465 iterations.\n",
      "[[98153     0]\n",
      " [    0  3270]]\n",
      "Model Accuracy 1.0\n"
     ]
    },
    {
     "data": {
      "application/vnd.plotly.v1+json": {
       "config": {
        "plotlyServerURL": "https://plot.ly"
       },
       "data": [
        {
         "alignmentgroup": "True",
         "hovertemplate": "Feature=%{x}<br>importance=%{y}<extra></extra>",
         "legendgroup": "",
         "marker": {
          "color": "#636efa",
          "pattern": {
           "shape": ""
          }
         },
         "name": "",
         "offsetgroup": "",
         "orientation": "v",
         "showlegend": false,
         "textposition": "auto",
         "type": "bar",
         "x": [
          "G2 BCLVS",
          "G2 NVT",
          "G1 NVT",
          "G1 RNFLDI",
          "G2 RNFLDI",
          "G2 BCLVI",
          "G1 RNFLDS",
          "G1 BCLVS",
          "G2 DH",
          "G1 BCLVI",
          "G1 LD",
          "G1 DH",
          "G2 RNFLDS",
          "G2 LC",
          "G2 LD",
          "G1 LC",
          "Age",
          "G3 NVT",
          "G3 BCLVS",
          "G3 BCLVI",
          "G3 RNFLDS",
          "G3 LC",
          "G1 ANRS",
          "G1 ANRI",
          "G3 LD",
          "G2 ANRS",
          "G3 DH",
          "G3 ANRS",
          "G2 ANRI",
          "G3 RNFLDI",
          "G3 ANRI"
         ],
         "xaxis": "x",
         "y": [
          0,
          0,
          0.00030284673226063256,
          0.003966475408057954,
          0.02718467436966178,
          0.07480162638666023,
          0.14240813375456152,
          0.16818080489290882,
          0.19587717692356743,
          0.2363188764064813,
          0.23737770452782486,
          0.2626854285767056,
          0.36364880133746724,
          0.8758504166763039,
          1.0429097157747986,
          1.1061387888632408,
          1.289061744358655,
          1.3382076688619917,
          3.5743769966297303,
          3.8034389232303605,
          4.552791618420386,
          4.582574289547015,
          4.722899031355561,
          5.738494155233929,
          5.918872266603334,
          7.043851969039671,
          7.053902919538119,
          9.953589727978677,
          10.28950959616837,
          10.5542947795623,
          14.846482842841395
         ],
         "yaxis": "y"
        }
       ],
       "layout": {
        "barmode": "relative",
        "legend": {
         "tracegroupgap": 0
        },
        "margin": {
         "t": 60
        },
        "template": {
         "data": {
          "bar": [
           {
            "error_x": {
             "color": "#2a3f5f"
            },
            "error_y": {
             "color": "#2a3f5f"
            },
            "marker": {
             "line": {
              "color": "#E5ECF6",
              "width": 0.5
             },
             "pattern": {
              "fillmode": "overlay",
              "size": 10,
              "solidity": 0.2
             }
            },
            "type": "bar"
           }
          ],
          "barpolar": [
           {
            "marker": {
             "line": {
              "color": "#E5ECF6",
              "width": 0.5
             },
             "pattern": {
              "fillmode": "overlay",
              "size": 10,
              "solidity": 0.2
             }
            },
            "type": "barpolar"
           }
          ],
          "carpet": [
           {
            "aaxis": {
             "endlinecolor": "#2a3f5f",
             "gridcolor": "white",
             "linecolor": "white",
             "minorgridcolor": "white",
             "startlinecolor": "#2a3f5f"
            },
            "baxis": {
             "endlinecolor": "#2a3f5f",
             "gridcolor": "white",
             "linecolor": "white",
             "minorgridcolor": "white",
             "startlinecolor": "#2a3f5f"
            },
            "type": "carpet"
           }
          ],
          "choropleth": [
           {
            "colorbar": {
             "outlinewidth": 0,
             "ticks": ""
            },
            "type": "choropleth"
           }
          ],
          "contour": [
           {
            "colorbar": {
             "outlinewidth": 0,
             "ticks": ""
            },
            "colorscale": [
             [
              0,
              "#0d0887"
             ],
             [
              0.1111111111111111,
              "#46039f"
             ],
             [
              0.2222222222222222,
              "#7201a8"
             ],
             [
              0.3333333333333333,
              "#9c179e"
             ],
             [
              0.4444444444444444,
              "#bd3786"
             ],
             [
              0.5555555555555556,
              "#d8576b"
             ],
             [
              0.6666666666666666,
              "#ed7953"
             ],
             [
              0.7777777777777778,
              "#fb9f3a"
             ],
             [
              0.8888888888888888,
              "#fdca26"
             ],
             [
              1,
              "#f0f921"
             ]
            ],
            "type": "contour"
           }
          ],
          "contourcarpet": [
           {
            "colorbar": {
             "outlinewidth": 0,
             "ticks": ""
            },
            "type": "contourcarpet"
           }
          ],
          "heatmap": [
           {
            "colorbar": {
             "outlinewidth": 0,
             "ticks": ""
            },
            "colorscale": [
             [
              0,
              "#0d0887"
             ],
             [
              0.1111111111111111,
              "#46039f"
             ],
             [
              0.2222222222222222,
              "#7201a8"
             ],
             [
              0.3333333333333333,
              "#9c179e"
             ],
             [
              0.4444444444444444,
              "#bd3786"
             ],
             [
              0.5555555555555556,
              "#d8576b"
             ],
             [
              0.6666666666666666,
              "#ed7953"
             ],
             [
              0.7777777777777778,
              "#fb9f3a"
             ],
             [
              0.8888888888888888,
              "#fdca26"
             ],
             [
              1,
              "#f0f921"
             ]
            ],
            "type": "heatmap"
           }
          ],
          "heatmapgl": [
           {
            "colorbar": {
             "outlinewidth": 0,
             "ticks": ""
            },
            "colorscale": [
             [
              0,
              "#0d0887"
             ],
             [
              0.1111111111111111,
              "#46039f"
             ],
             [
              0.2222222222222222,
              "#7201a8"
             ],
             [
              0.3333333333333333,
              "#9c179e"
             ],
             [
              0.4444444444444444,
              "#bd3786"
             ],
             [
              0.5555555555555556,
              "#d8576b"
             ],
             [
              0.6666666666666666,
              "#ed7953"
             ],
             [
              0.7777777777777778,
              "#fb9f3a"
             ],
             [
              0.8888888888888888,
              "#fdca26"
             ],
             [
              1,
              "#f0f921"
             ]
            ],
            "type": "heatmapgl"
           }
          ],
          "histogram": [
           {
            "marker": {
             "pattern": {
              "fillmode": "overlay",
              "size": 10,
              "solidity": 0.2
             }
            },
            "type": "histogram"
           }
          ],
          "histogram2d": [
           {
            "colorbar": {
             "outlinewidth": 0,
             "ticks": ""
            },
            "colorscale": [
             [
              0,
              "#0d0887"
             ],
             [
              0.1111111111111111,
              "#46039f"
             ],
             [
              0.2222222222222222,
              "#7201a8"
             ],
             [
              0.3333333333333333,
              "#9c179e"
             ],
             [
              0.4444444444444444,
              "#bd3786"
             ],
             [
              0.5555555555555556,
              "#d8576b"
             ],
             [
              0.6666666666666666,
              "#ed7953"
             ],
             [
              0.7777777777777778,
              "#fb9f3a"
             ],
             [
              0.8888888888888888,
              "#fdca26"
             ],
             [
              1,
              "#f0f921"
             ]
            ],
            "type": "histogram2d"
           }
          ],
          "histogram2dcontour": [
           {
            "colorbar": {
             "outlinewidth": 0,
             "ticks": ""
            },
            "colorscale": [
             [
              0,
              "#0d0887"
             ],
             [
              0.1111111111111111,
              "#46039f"
             ],
             [
              0.2222222222222222,
              "#7201a8"
             ],
             [
              0.3333333333333333,
              "#9c179e"
             ],
             [
              0.4444444444444444,
              "#bd3786"
             ],
             [
              0.5555555555555556,
              "#d8576b"
             ],
             [
              0.6666666666666666,
              "#ed7953"
             ],
             [
              0.7777777777777778,
              "#fb9f3a"
             ],
             [
              0.8888888888888888,
              "#fdca26"
             ],
             [
              1,
              "#f0f921"
             ]
            ],
            "type": "histogram2dcontour"
           }
          ],
          "mesh3d": [
           {
            "colorbar": {
             "outlinewidth": 0,
             "ticks": ""
            },
            "type": "mesh3d"
           }
          ],
          "parcoords": [
           {
            "line": {
             "colorbar": {
              "outlinewidth": 0,
              "ticks": ""
             }
            },
            "type": "parcoords"
           }
          ],
          "pie": [
           {
            "automargin": true,
            "type": "pie"
           }
          ],
          "scatter": [
           {
            "fillpattern": {
             "fillmode": "overlay",
             "size": 10,
             "solidity": 0.2
            },
            "type": "scatter"
           }
          ],
          "scatter3d": [
           {
            "line": {
             "colorbar": {
              "outlinewidth": 0,
              "ticks": ""
             }
            },
            "marker": {
             "colorbar": {
              "outlinewidth": 0,
              "ticks": ""
             }
            },
            "type": "scatter3d"
           }
          ],
          "scattercarpet": [
           {
            "marker": {
             "colorbar": {
              "outlinewidth": 0,
              "ticks": ""
             }
            },
            "type": "scattercarpet"
           }
          ],
          "scattergeo": [
           {
            "marker": {
             "colorbar": {
              "outlinewidth": 0,
              "ticks": ""
             }
            },
            "type": "scattergeo"
           }
          ],
          "scattergl": [
           {
            "marker": {
             "colorbar": {
              "outlinewidth": 0,
              "ticks": ""
             }
            },
            "type": "scattergl"
           }
          ],
          "scattermapbox": [
           {
            "marker": {
             "colorbar": {
              "outlinewidth": 0,
              "ticks": ""
             }
            },
            "type": "scattermapbox"
           }
          ],
          "scatterpolar": [
           {
            "marker": {
             "colorbar": {
              "outlinewidth": 0,
              "ticks": ""
             }
            },
            "type": "scatterpolar"
           }
          ],
          "scatterpolargl": [
           {
            "marker": {
             "colorbar": {
              "outlinewidth": 0,
              "ticks": ""
             }
            },
            "type": "scatterpolargl"
           }
          ],
          "scatterternary": [
           {
            "marker": {
             "colorbar": {
              "outlinewidth": 0,
              "ticks": ""
             }
            },
            "type": "scatterternary"
           }
          ],
          "surface": [
           {
            "colorbar": {
             "outlinewidth": 0,
             "ticks": ""
            },
            "colorscale": [
             [
              0,
              "#0d0887"
             ],
             [
              0.1111111111111111,
              "#46039f"
             ],
             [
              0.2222222222222222,
              "#7201a8"
             ],
             [
              0.3333333333333333,
              "#9c179e"
             ],
             [
              0.4444444444444444,
              "#bd3786"
             ],
             [
              0.5555555555555556,
              "#d8576b"
             ],
             [
              0.6666666666666666,
              "#ed7953"
             ],
             [
              0.7777777777777778,
              "#fb9f3a"
             ],
             [
              0.8888888888888888,
              "#fdca26"
             ],
             [
              1,
              "#f0f921"
             ]
            ],
            "type": "surface"
           }
          ],
          "table": [
           {
            "cells": {
             "fill": {
              "color": "#EBF0F8"
             },
             "line": {
              "color": "white"
             }
            },
            "header": {
             "fill": {
              "color": "#C8D4E3"
             },
             "line": {
              "color": "white"
             }
            },
            "type": "table"
           }
          ]
         },
         "layout": {
          "annotationdefaults": {
           "arrowcolor": "#2a3f5f",
           "arrowhead": 0,
           "arrowwidth": 1
          },
          "autotypenumbers": "strict",
          "coloraxis": {
           "colorbar": {
            "outlinewidth": 0,
            "ticks": ""
           }
          },
          "colorscale": {
           "diverging": [
            [
             0,
             "#8e0152"
            ],
            [
             0.1,
             "#c51b7d"
            ],
            [
             0.2,
             "#de77ae"
            ],
            [
             0.3,
             "#f1b6da"
            ],
            [
             0.4,
             "#fde0ef"
            ],
            [
             0.5,
             "#f7f7f7"
            ],
            [
             0.6,
             "#e6f5d0"
            ],
            [
             0.7,
             "#b8e186"
            ],
            [
             0.8,
             "#7fbc41"
            ],
            [
             0.9,
             "#4d9221"
            ],
            [
             1,
             "#276419"
            ]
           ],
           "sequential": [
            [
             0,
             "#0d0887"
            ],
            [
             0.1111111111111111,
             "#46039f"
            ],
            [
             0.2222222222222222,
             "#7201a8"
            ],
            [
             0.3333333333333333,
             "#9c179e"
            ],
            [
             0.4444444444444444,
             "#bd3786"
            ],
            [
             0.5555555555555556,
             "#d8576b"
            ],
            [
             0.6666666666666666,
             "#ed7953"
            ],
            [
             0.7777777777777778,
             "#fb9f3a"
            ],
            [
             0.8888888888888888,
             "#fdca26"
            ],
            [
             1,
             "#f0f921"
            ]
           ],
           "sequentialminus": [
            [
             0,
             "#0d0887"
            ],
            [
             0.1111111111111111,
             "#46039f"
            ],
            [
             0.2222222222222222,
             "#7201a8"
            ],
            [
             0.3333333333333333,
             "#9c179e"
            ],
            [
             0.4444444444444444,
             "#bd3786"
            ],
            [
             0.5555555555555556,
             "#d8576b"
            ],
            [
             0.6666666666666666,
             "#ed7953"
            ],
            [
             0.7777777777777778,
             "#fb9f3a"
            ],
            [
             0.8888888888888888,
             "#fdca26"
            ],
            [
             1,
             "#f0f921"
            ]
           ]
          },
          "colorway": [
           "#636efa",
           "#EF553B",
           "#00cc96",
           "#ab63fa",
           "#FFA15A",
           "#19d3f3",
           "#FF6692",
           "#B6E880",
           "#FF97FF",
           "#FECB52"
          ],
          "font": {
           "color": "#2a3f5f"
          },
          "geo": {
           "bgcolor": "white",
           "lakecolor": "white",
           "landcolor": "#E5ECF6",
           "showlakes": true,
           "showland": true,
           "subunitcolor": "white"
          },
          "hoverlabel": {
           "align": "left"
          },
          "hovermode": "closest",
          "mapbox": {
           "style": "light"
          },
          "paper_bgcolor": "white",
          "plot_bgcolor": "#E5ECF6",
          "polar": {
           "angularaxis": {
            "gridcolor": "white",
            "linecolor": "white",
            "ticks": ""
           },
           "bgcolor": "#E5ECF6",
           "radialaxis": {
            "gridcolor": "white",
            "linecolor": "white",
            "ticks": ""
           }
          },
          "scene": {
           "xaxis": {
            "backgroundcolor": "#E5ECF6",
            "gridcolor": "white",
            "gridwidth": 2,
            "linecolor": "white",
            "showbackground": true,
            "ticks": "",
            "zerolinecolor": "white"
           },
           "yaxis": {
            "backgroundcolor": "#E5ECF6",
            "gridcolor": "white",
            "gridwidth": 2,
            "linecolor": "white",
            "showbackground": true,
            "ticks": "",
            "zerolinecolor": "white"
           },
           "zaxis": {
            "backgroundcolor": "#E5ECF6",
            "gridcolor": "white",
            "gridwidth": 2,
            "linecolor": "white",
            "showbackground": true,
            "ticks": "",
            "zerolinecolor": "white"
           }
          },
          "shapedefaults": {
           "line": {
            "color": "#2a3f5f"
           }
          },
          "ternary": {
           "aaxis": {
            "gridcolor": "white",
            "linecolor": "white",
            "ticks": ""
           },
           "baxis": {
            "gridcolor": "white",
            "linecolor": "white",
            "ticks": ""
           },
           "bgcolor": "#E5ECF6",
           "caxis": {
            "gridcolor": "white",
            "linecolor": "white",
            "ticks": ""
           }
          },
          "title": {
           "x": 0.05
          },
          "xaxis": {
           "automargin": true,
           "gridcolor": "white",
           "linecolor": "white",
           "ticks": "",
           "title": {
            "standoff": 15
           },
           "zerolinecolor": "white",
           "zerolinewidth": 2
          },
          "yaxis": {
           "automargin": true,
           "gridcolor": "white",
           "linecolor": "white",
           "ticks": "",
           "title": {
            "standoff": 15
           },
           "zerolinecolor": "white",
           "zerolinewidth": 2
          }
         }
        },
        "xaxis": {
         "anchor": "y",
         "domain": [
          0,
          1
         ],
         "title": {
          "text": "Feature"
         }
        },
        "yaxis": {
         "anchor": "x",
         "domain": [
          0,
          1
         ],
         "title": {
          "text": "importance"
         }
        }
       }
      },
      "text/html": [
       "<div>                            <div id=\"0611e46a-0def-4187-8b88-ca7cf44b66c1\" class=\"plotly-graph-div\" style=\"height:525px; width:100%;\"></div>            <script type=\"text/javascript\">                require([\"plotly\"], function(Plotly) {                    window.PLOTLYENV=window.PLOTLYENV || {};                                    if (document.getElementById(\"0611e46a-0def-4187-8b88-ca7cf44b66c1\")) {                    Plotly.newPlot(                        \"0611e46a-0def-4187-8b88-ca7cf44b66c1\",                        [{\"alignmentgroup\":\"True\",\"hovertemplate\":\"Feature=%{x}\\u003cbr\\u003eimportance=%{y}\\u003cextra\\u003e\\u003c\\u002fextra\\u003e\",\"legendgroup\":\"\",\"marker\":{\"color\":\"#636efa\",\"pattern\":{\"shape\":\"\"}},\"name\":\"\",\"offsetgroup\":\"\",\"orientation\":\"v\",\"showlegend\":false,\"textposition\":\"auto\",\"x\":[\"G2 BCLVS\",\"G2 NVT\",\"G1 NVT\",\"G1 RNFLDI\",\"G2 RNFLDI\",\"G2 BCLVI\",\"G1 RNFLDS\",\"G1 BCLVS\",\"G2 DH\",\"G1 BCLVI\",\"G1 LD\",\"G1 DH\",\"G2 RNFLDS\",\"G2 LC\",\"G2 LD\",\"G1 LC\",\"Age\",\"G3 NVT\",\"G3 BCLVS\",\"G3 BCLVI\",\"G3 RNFLDS\",\"G3 LC\",\"G1 ANRS\",\"G1 ANRI\",\"G3 LD\",\"G2 ANRS\",\"G3 DH\",\"G3 ANRS\",\"G2 ANRI\",\"G3 RNFLDI\",\"G3 ANRI\"],\"xaxis\":\"x\",\"y\":[0.0,0.0,0.00030284673226063256,0.003966475408057954,0.02718467436966178,0.07480162638666023,0.14240813375456152,0.16818080489290882,0.19587717692356743,0.2363188764064813,0.23737770452782486,0.2626854285767056,0.36364880133746724,0.8758504166763039,1.0429097157747986,1.1061387888632408,1.289061744358655,1.3382076688619917,3.5743769966297303,3.8034389232303605,4.552791618420386,4.582574289547015,4.722899031355561,5.738494155233929,5.918872266603334,7.043851969039671,7.053902919538119,9.953589727978677,10.28950959616837,10.5542947795623,14.846482842841395],\"yaxis\":\"y\",\"type\":\"bar\"}],                        {\"template\":{\"data\":{\"histogram2dcontour\":[{\"type\":\"histogram2dcontour\",\"colorbar\":{\"outlinewidth\":0,\"ticks\":\"\"},\"colorscale\":[[0.0,\"#0d0887\"],[0.1111111111111111,\"#46039f\"],[0.2222222222222222,\"#7201a8\"],[0.3333333333333333,\"#9c179e\"],[0.4444444444444444,\"#bd3786\"],[0.5555555555555556,\"#d8576b\"],[0.6666666666666666,\"#ed7953\"],[0.7777777777777778,\"#fb9f3a\"],[0.8888888888888888,\"#fdca26\"],[1.0,\"#f0f921\"]]}],\"choropleth\":[{\"type\":\"choropleth\",\"colorbar\":{\"outlinewidth\":0,\"ticks\":\"\"}}],\"histogram2d\":[{\"type\":\"histogram2d\",\"colorbar\":{\"outlinewidth\":0,\"ticks\":\"\"},\"colorscale\":[[0.0,\"#0d0887\"],[0.1111111111111111,\"#46039f\"],[0.2222222222222222,\"#7201a8\"],[0.3333333333333333,\"#9c179e\"],[0.4444444444444444,\"#bd3786\"],[0.5555555555555556,\"#d8576b\"],[0.6666666666666666,\"#ed7953\"],[0.7777777777777778,\"#fb9f3a\"],[0.8888888888888888,\"#fdca26\"],[1.0,\"#f0f921\"]]}],\"heatmap\":[{\"type\":\"heatmap\",\"colorbar\":{\"outlinewidth\":0,\"ticks\":\"\"},\"colorscale\":[[0.0,\"#0d0887\"],[0.1111111111111111,\"#46039f\"],[0.2222222222222222,\"#7201a8\"],[0.3333333333333333,\"#9c179e\"],[0.4444444444444444,\"#bd3786\"],[0.5555555555555556,\"#d8576b\"],[0.6666666666666666,\"#ed7953\"],[0.7777777777777778,\"#fb9f3a\"],[0.8888888888888888,\"#fdca26\"],[1.0,\"#f0f921\"]]}],\"heatmapgl\":[{\"type\":\"heatmapgl\",\"colorbar\":{\"outlinewidth\":0,\"ticks\":\"\"},\"colorscale\":[[0.0,\"#0d0887\"],[0.1111111111111111,\"#46039f\"],[0.2222222222222222,\"#7201a8\"],[0.3333333333333333,\"#9c179e\"],[0.4444444444444444,\"#bd3786\"],[0.5555555555555556,\"#d8576b\"],[0.6666666666666666,\"#ed7953\"],[0.7777777777777778,\"#fb9f3a\"],[0.8888888888888888,\"#fdca26\"],[1.0,\"#f0f921\"]]}],\"contourcarpet\":[{\"type\":\"contourcarpet\",\"colorbar\":{\"outlinewidth\":0,\"ticks\":\"\"}}],\"contour\":[{\"type\":\"contour\",\"colorbar\":{\"outlinewidth\":0,\"ticks\":\"\"},\"colorscale\":[[0.0,\"#0d0887\"],[0.1111111111111111,\"#46039f\"],[0.2222222222222222,\"#7201a8\"],[0.3333333333333333,\"#9c179e\"],[0.4444444444444444,\"#bd3786\"],[0.5555555555555556,\"#d8576b\"],[0.6666666666666666,\"#ed7953\"],[0.7777777777777778,\"#fb9f3a\"],[0.8888888888888888,\"#fdca26\"],[1.0,\"#f0f921\"]]}],\"surface\":[{\"type\":\"surface\",\"colorbar\":{\"outlinewidth\":0,\"ticks\":\"\"},\"colorscale\":[[0.0,\"#0d0887\"],[0.1111111111111111,\"#46039f\"],[0.2222222222222222,\"#7201a8\"],[0.3333333333333333,\"#9c179e\"],[0.4444444444444444,\"#bd3786\"],[0.5555555555555556,\"#d8576b\"],[0.6666666666666666,\"#ed7953\"],[0.7777777777777778,\"#fb9f3a\"],[0.8888888888888888,\"#fdca26\"],[1.0,\"#f0f921\"]]}],\"mesh3d\":[{\"type\":\"mesh3d\",\"colorbar\":{\"outlinewidth\":0,\"ticks\":\"\"}}],\"scatter\":[{\"fillpattern\":{\"fillmode\":\"overlay\",\"size\":10,\"solidity\":0.2},\"type\":\"scatter\"}],\"parcoords\":[{\"type\":\"parcoords\",\"line\":{\"colorbar\":{\"outlinewidth\":0,\"ticks\":\"\"}}}],\"scatterpolargl\":[{\"type\":\"scatterpolargl\",\"marker\":{\"colorbar\":{\"outlinewidth\":0,\"ticks\":\"\"}}}],\"bar\":[{\"error_x\":{\"color\":\"#2a3f5f\"},\"error_y\":{\"color\":\"#2a3f5f\"},\"marker\":{\"line\":{\"color\":\"#E5ECF6\",\"width\":0.5},\"pattern\":{\"fillmode\":\"overlay\",\"size\":10,\"solidity\":0.2}},\"type\":\"bar\"}],\"scattergeo\":[{\"type\":\"scattergeo\",\"marker\":{\"colorbar\":{\"outlinewidth\":0,\"ticks\":\"\"}}}],\"scatterpolar\":[{\"type\":\"scatterpolar\",\"marker\":{\"colorbar\":{\"outlinewidth\":0,\"ticks\":\"\"}}}],\"histogram\":[{\"marker\":{\"pattern\":{\"fillmode\":\"overlay\",\"size\":10,\"solidity\":0.2}},\"type\":\"histogram\"}],\"scattergl\":[{\"type\":\"scattergl\",\"marker\":{\"colorbar\":{\"outlinewidth\":0,\"ticks\":\"\"}}}],\"scatter3d\":[{\"type\":\"scatter3d\",\"line\":{\"colorbar\":{\"outlinewidth\":0,\"ticks\":\"\"}},\"marker\":{\"colorbar\":{\"outlinewidth\":0,\"ticks\":\"\"}}}],\"scattermapbox\":[{\"type\":\"scattermapbox\",\"marker\":{\"colorbar\":{\"outlinewidth\":0,\"ticks\":\"\"}}}],\"scatterternary\":[{\"type\":\"scatterternary\",\"marker\":{\"colorbar\":{\"outlinewidth\":0,\"ticks\":\"\"}}}],\"scattercarpet\":[{\"type\":\"scattercarpet\",\"marker\":{\"colorbar\":{\"outlinewidth\":0,\"ticks\":\"\"}}}],\"carpet\":[{\"aaxis\":{\"endlinecolor\":\"#2a3f5f\",\"gridcolor\":\"white\",\"linecolor\":\"white\",\"minorgridcolor\":\"white\",\"startlinecolor\":\"#2a3f5f\"},\"baxis\":{\"endlinecolor\":\"#2a3f5f\",\"gridcolor\":\"white\",\"linecolor\":\"white\",\"minorgridcolor\":\"white\",\"startlinecolor\":\"#2a3f5f\"},\"type\":\"carpet\"}],\"table\":[{\"cells\":{\"fill\":{\"color\":\"#EBF0F8\"},\"line\":{\"color\":\"white\"}},\"header\":{\"fill\":{\"color\":\"#C8D4E3\"},\"line\":{\"color\":\"white\"}},\"type\":\"table\"}],\"barpolar\":[{\"marker\":{\"line\":{\"color\":\"#E5ECF6\",\"width\":0.5},\"pattern\":{\"fillmode\":\"overlay\",\"size\":10,\"solidity\":0.2}},\"type\":\"barpolar\"}],\"pie\":[{\"automargin\":true,\"type\":\"pie\"}]},\"layout\":{\"autotypenumbers\":\"strict\",\"colorway\":[\"#636efa\",\"#EF553B\",\"#00cc96\",\"#ab63fa\",\"#FFA15A\",\"#19d3f3\",\"#FF6692\",\"#B6E880\",\"#FF97FF\",\"#FECB52\"],\"font\":{\"color\":\"#2a3f5f\"},\"hovermode\":\"closest\",\"hoverlabel\":{\"align\":\"left\"},\"paper_bgcolor\":\"white\",\"plot_bgcolor\":\"#E5ECF6\",\"polar\":{\"bgcolor\":\"#E5ECF6\",\"angularaxis\":{\"gridcolor\":\"white\",\"linecolor\":\"white\",\"ticks\":\"\"},\"radialaxis\":{\"gridcolor\":\"white\",\"linecolor\":\"white\",\"ticks\":\"\"}},\"ternary\":{\"bgcolor\":\"#E5ECF6\",\"aaxis\":{\"gridcolor\":\"white\",\"linecolor\":\"white\",\"ticks\":\"\"},\"baxis\":{\"gridcolor\":\"white\",\"linecolor\":\"white\",\"ticks\":\"\"},\"caxis\":{\"gridcolor\":\"white\",\"linecolor\":\"white\",\"ticks\":\"\"}},\"coloraxis\":{\"colorbar\":{\"outlinewidth\":0,\"ticks\":\"\"}},\"colorscale\":{\"sequential\":[[0.0,\"#0d0887\"],[0.1111111111111111,\"#46039f\"],[0.2222222222222222,\"#7201a8\"],[0.3333333333333333,\"#9c179e\"],[0.4444444444444444,\"#bd3786\"],[0.5555555555555556,\"#d8576b\"],[0.6666666666666666,\"#ed7953\"],[0.7777777777777778,\"#fb9f3a\"],[0.8888888888888888,\"#fdca26\"],[1.0,\"#f0f921\"]],\"sequentialminus\":[[0.0,\"#0d0887\"],[0.1111111111111111,\"#46039f\"],[0.2222222222222222,\"#7201a8\"],[0.3333333333333333,\"#9c179e\"],[0.4444444444444444,\"#bd3786\"],[0.5555555555555556,\"#d8576b\"],[0.6666666666666666,\"#ed7953\"],[0.7777777777777778,\"#fb9f3a\"],[0.8888888888888888,\"#fdca26\"],[1.0,\"#f0f921\"]],\"diverging\":[[0,\"#8e0152\"],[0.1,\"#c51b7d\"],[0.2,\"#de77ae\"],[0.3,\"#f1b6da\"],[0.4,\"#fde0ef\"],[0.5,\"#f7f7f7\"],[0.6,\"#e6f5d0\"],[0.7,\"#b8e186\"],[0.8,\"#7fbc41\"],[0.9,\"#4d9221\"],[1,\"#276419\"]]},\"xaxis\":{\"gridcolor\":\"white\",\"linecolor\":\"white\",\"ticks\":\"\",\"title\":{\"standoff\":15},\"zerolinecolor\":\"white\",\"automargin\":true,\"zerolinewidth\":2},\"yaxis\":{\"gridcolor\":\"white\",\"linecolor\":\"white\",\"ticks\":\"\",\"title\":{\"standoff\":15},\"zerolinecolor\":\"white\",\"automargin\":true,\"zerolinewidth\":2},\"scene\":{\"xaxis\":{\"backgroundcolor\":\"#E5ECF6\",\"gridcolor\":\"white\",\"linecolor\":\"white\",\"showbackground\":true,\"ticks\":\"\",\"zerolinecolor\":\"white\",\"gridwidth\":2},\"yaxis\":{\"backgroundcolor\":\"#E5ECF6\",\"gridcolor\":\"white\",\"linecolor\":\"white\",\"showbackground\":true,\"ticks\":\"\",\"zerolinecolor\":\"white\",\"gridwidth\":2},\"zaxis\":{\"backgroundcolor\":\"#E5ECF6\",\"gridcolor\":\"white\",\"linecolor\":\"white\",\"showbackground\":true,\"ticks\":\"\",\"zerolinecolor\":\"white\",\"gridwidth\":2}},\"shapedefaults\":{\"line\":{\"color\":\"#2a3f5f\"}},\"annotationdefaults\":{\"arrowcolor\":\"#2a3f5f\",\"arrowhead\":0,\"arrowwidth\":1},\"geo\":{\"bgcolor\":\"white\",\"landcolor\":\"#E5ECF6\",\"subunitcolor\":\"white\",\"showland\":true,\"showlakes\":true,\"lakecolor\":\"white\"},\"title\":{\"x\":0.05},\"mapbox\":{\"style\":\"light\"}}},\"xaxis\":{\"anchor\":\"y\",\"domain\":[0.0,1.0],\"title\":{\"text\":\"Feature\"}},\"yaxis\":{\"anchor\":\"x\",\"domain\":[0.0,1.0],\"title\":{\"text\":\"importance\"}},\"legend\":{\"tracegroupgap\":0},\"margin\":{\"t\":60},\"barmode\":\"relative\"},                        {\"responsive\": true}                    ).then(function(){\n",
       "                            \n",
       "var gd = document.getElementById('0611e46a-0def-4187-8b88-ca7cf44b66c1');\n",
       "var x = new MutationObserver(function (mutations, observer) {{\n",
       "        var display = window.getComputedStyle(gd).display;\n",
       "        if (!display || display === 'none') {{\n",
       "            console.log([gd, 'removed!']);\n",
       "            Plotly.purge(gd);\n",
       "            observer.disconnect();\n",
       "        }}\n",
       "}});\n",
       "\n",
       "// Listen for the removal of the full notebook cells\n",
       "var notebookContainer = gd.closest('#notebook-container');\n",
       "if (notebookContainer) {{\n",
       "    x.observe(notebookContainer, {childList: true});\n",
       "}}\n",
       "\n",
       "// Listen for the clearing of the current output cell\n",
       "var outputEl = gd.closest('.output');\n",
       "if (outputEl) {{\n",
       "    x.observe(outputEl, {childList: true});\n",
       "}}\n",
       "\n",
       "                        })                };                });            </script>        </div>"
      ]
     },
     "metadata": {},
     "output_type": "display_data"
    }
   ],
   "source": [
    "model,pred = get_catboost_importance(df.drop(['Label G1', 'Label G2',  'Label G3','Eye ID','Fellow Eye ID'],axis=1))"
   ]
  },
  {
   "cell_type": "code",
   "execution_count": null,
   "id": "b3c03a4f",
   "metadata": {},
   "outputs": [],
   "source": []
  }
 ],
 "metadata": {
  "kernelspec": {
   "display_name": "Python 3 (ipykernel)",
   "language": "python",
   "name": "python3"
  },
  "language_info": {
   "codemirror_mode": {
    "name": "ipython",
    "version": 3
   },
   "file_extension": ".py",
   "mimetype": "text/x-python",
   "name": "python",
   "nbconvert_exporter": "python",
   "pygments_lexer": "ipython3",
   "version": "3.8.12"
  }
 },
 "nbformat": 4,
 "nbformat_minor": 5
}
